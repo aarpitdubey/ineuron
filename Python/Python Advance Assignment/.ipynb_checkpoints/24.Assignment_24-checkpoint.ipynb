{
 "cells": [
  {
   "cell_type": "markdown",
   "id": "d8ed8d0b",
   "metadata": {},
   "source": [
    "# Assignment 24 Solutions"
   ]
  },
  {
   "cell_type": "markdown",
   "id": "d91cebf0",
   "metadata": {},
   "source": [
    "#### Q1. Is it permissible to use several import statements to import the same module? What would the goal be? Can you think of a situation where it would be beneficial ?\n",
    "**Ans:** Yes, it is permissible to use several import statements to import the same module. It is used in case when we have to import multiple functions from same module. "
   ]
  },
  {
   "cell_type": "markdown",
   "id": "4cca993e",
   "metadata": {},
   "source": [
    "#### Q2. What are some of a module's characteristics? (Name at least one.)\n",
    "**Ans:** The following are some of a module's characteristics:\n",
    "- **`__name__`** : It returns the name of the module\n",
    "- **`__doc__`** : It denotes the documentation string line written in a module code.\n",
    "- **`__file__`** : It holds the name and path of the module file from which it is loaded\n",
    "- **`__dict__`** : It return a dictionary object of module attributes, functions and other definitions and their respective values"
   ]
  },
  {
   "cell_type": "markdown",
   "id": "748f017b",
   "metadata": {},
   "source": [
    "#### Q3. Circular importing, such as when two modules import each other, can lead to dependencies and bugs that aren't visible. How can you go about creating a program that avoids mutual importing?\n",
    "**Ans:** Circular importing means importing the two modules in each other. If suppose we are wokring in `MOD1.py` file and it is importing some function say F2() from some other module say\n",
    "`MOD2.PY` file or we can do vice-versa. What will happen is: This will give an `import error`.\n",
    "\n",
    "This is because when we import F2() function from module `MOD2.py`, then this will execute `MOD2.py` file. And in `MOD2.py` file there is an another statement of importing `MOD1.py` module.\n",
    "\n",
    "This will result in endless loop. To avoid this error just do one thingWe can use if `__name__ == '__main__'`\n",
    "\n",
    "In the function, you can't directly refer to the function in the program. The addition of this sentence avoids the endless loop of the program ."
   ]
  },
  {
   "cell_type": "markdown",
   "id": "74cfdc5e",
   "metadata": {},
   "source": [
    "#### Q4. Why is  **`__all__`** in Python ?\n",
    "**Ans:** It provides list of all modules present in a library. "
   ]
  },
  {
   "cell_type": "markdown",
   "id": "0d818cbd",
   "metadata": {},
   "source": [
    "#### Q5. In what situation is it useful to refer to the `__name__` attribute or the string `__main_ _` ?\n",
    "**Ans:** During the time of execution of the code if we want to refer the module in which we are working on then we uses name attribute. In that case it will return the module in which we are working on. Suppose if that moudle is being imported from some other module then name will have the name of that moudle from where the current module has been imported. The current module in which we are working is refer to the string `__main __`."
   ]
  },
  {
   "cell_type": "markdown",
   "id": "fdf14507",
   "metadata": {},
   "source": [
    "#### Q6. What are some of the benefits of attaching a program counter to the RPN interpreter application, which interprets an RPN script line by line?"
   ]
  },
  {
   "cell_type": "markdown",
   "id": "6460bbba",
   "metadata": {},
   "source": [
    "**Ans :** Basically, RPN intepreter application as mentioned used for interpreting the RPN script and using it we can perform our computations easier and faster rather than just getting the answer at the end. RPN saves time and keystrokes. Through this we can avoid using and keeping track of parentheses while doing any calculations. This process is similar to the way you learned math on paper. Now, A program counter (PC) is a CPU register in the computer processor which has the address of the next instruction to be executed from memory. It is a digital counter needed for faster execution of tasks as well as for tracking the current execution point. So the main benefit to attached a PC with RPN is that it can be easily back track the expression or task for calculation with now, it consist of memory management so computation Traversing over any expression become easier, faster and can be back-tracked which can saves more time and keystrokes or key instructional hits."
   ]
  },
  {
   "cell_type": "markdown",
   "id": "c47acec8",
   "metadata": {},
   "source": [
    "##### Q7. What are the minimum expressions or statements (or both) that you&#39;d need to render a basic programming language like RPN primitive but complete— that is, capable of carrying out any computerised task theoretically possible?\n",
    "\n"
   ]
  },
  {
   "cell_type": "markdown",
   "id": "1bcbaf08",
   "metadata": {},
   "source": [
    "\n",
    "**Ans :** Reverse Polish notation (also known as postfix notation) is one of multiple notations for representing mathematical expressions.The most obvious difference among these lie in the position of operators in the expression.\n",
    "\n",
    "* **infix:** operators are “in” between the operands\n",
    "* **Prefix:** operators are before (pre) the operands\n",
    "* **Postfix:** operators are after (post) the operands\n",
    "\n",
    "Other differences include the significance of space as a separator (prefix and postfix are space sensitive while infix is not) and the way order of operations is expressed. \n",
    "\n",
    "The order of operation is inherent in the expression structure in prefix and postfix notations while the infix notation requires the use of parentheses to make the order of operations explicit.\n",
    "\n",
    "``` python\n",
    "# Ambiguity in order of operations for infix notation\n",
    "1 + 2 + 3\n",
    "(1 + 2) + 3\n",
    "1 + (2 + 3)\n",
    "# No ambiguity in prefix and postfix (using postfix as an example)\n",
    "# The structure tells us that 1 and 2 are added first, then 3\n",
    "1 2 + 3 +\n",
    "\n",
    "# more example are:\n",
    "# Example 1\n",
    "1 10 30 + *\n",
    "1 40 *\n",
    "40\n",
    "# Example 2\n",
    "1 2 + 3 +\n",
    "3 3 +\n",
    "6\n",
    "# Example 3\n",
    "1 2 - 2 +\n",
    "-1 2 +\n",
    "1\n",
    "# Example 4\n",
    "1 2 /\n",
    "0.5\n",
    "```"
   ]
  },
  {
   "cell_type": "code",
   "execution_count": 1,
   "id": "2c3ca59c",
   "metadata": {},
   "outputs": [
    {
     "name": "stdout",
     "output_type": "stream",
     "text": [
      "1 30 10 + *\n",
      "40\n"
     ]
    }
   ],
   "source": [
    "import logging\n",
    "import operator as op\n",
    "import sys\n",
    "from typing import Any, List, Union\n",
    "\n",
    "logging.getLogger(__name__).setLevel(\"INFO\")\n",
    "\n",
    "supported_operators = {\"+\": op.add, \"-\": op.sub, \"*\": op.mul, \"/\": op.truediv}\n",
    "\n",
    "Number = Union[int, float]\n",
    "\n",
    "\n",
    "def tokenize(expr: str) -> List[str]:\n",
    "    \"\"\"Breaks expression `expr` into a list of tokens\"\"\"\n",
    "    return expr.split(\" \")\n",
    "\n",
    "\n",
    "def mpop(stack: List[Any], n: int = 1) -> List[Any]:\n",
    "    \"\"\"Pops and returns `n` items from a stack. Mutates `stack`\"\"\"\n",
    "    return [stack.pop() for _ in range(n)]\n",
    "\n",
    "\n",
    "def to_num(x: Any) -> Number:\n",
    "    \"\"\"Converts a value to a its appropriate numeric type\"\"\"\n",
    "    n = float(x)\n",
    "    return int(n) if n.is_integer() else n\n",
    "\n",
    "\n",
    "def consume_token(token: str, stack: List[Number]) -> List[Number]:\n",
    "    \"\"\"Consumes a token given the current stack and returns the updated stack\"\"\"\n",
    "    if token in supported_operators:\n",
    "        try:\n",
    "            num1, num2 = mpop(stack, 2)\n",
    "        except IndexError:\n",
    "            logging.error(\"SyntaxError: Malformed expression\")\n",
    "            sys.exit(1)\n",
    "\n",
    "        result = supported_operators[token](num2, num1)\n",
    "        return [*stack, result]\n",
    "    else:\n",
    "        try:\n",
    "            return [*stack, to_num(token)]\n",
    "        except ValueError:\n",
    "            logging.error(\"SyntaxError: Unsupported token '%s'\", token)\n",
    "            sys.exit(1)\n",
    "\n",
    "\n",
    "def get_result_from_stack(stack: List[Number]) -> Number:\n",
    "    \"\"\"Gets the result from `stack`\"\"\"\n",
    "    result, *rest = mpop(stack, 1)\n",
    "    if rest:\n",
    "        logging.error(\"SyntaxError: Found extra tokens\")\n",
    "        sys.exit(1)\n",
    "    return result\n",
    "\n",
    "\n",
    "def evaluate_v1(tokens: List[str]) -> Number:\n",
    "    \"\"\"Evaluates a tokenized expression and returns the result\"\"\"\n",
    "    stack: List = []\n",
    "\n",
    "    for token in tokens:\n",
    "        stack = consume_token(token, stack)\n",
    "\n",
    "    return get_result_from_stack(stack)\n",
    "\n",
    "\n",
    "def evaluate_v2(tokens: List[str]) -> Number:\n",
    "    \"\"\"Evaluates a tokenized expression and returns the result\"\"\"\n",
    "\n",
    "    def _evaluate(tokens: List[str], stack: List) -> Number:\n",
    "        if not tokens:\n",
    "            return get_result_from_stack(stack)\n",
    "\n",
    "        stack = consume_token(tokens[0], stack)\n",
    "\n",
    "        return _evaluate(tokens[1:], stack)\n",
    "\n",
    "    return _evaluate(tokens, [])\n",
    "\n",
    "\n",
    "if __name__ == \"__main__\":\n",
    "    print(evaluate_v2(tokenize(input())))\n",
    "    \n",
    "    # passing input as   : 1 30 10 + *\n",
    "    # it gives output as : 40"
   ]
  }
 ],
 "metadata": {
  "kernelspec": {
   "display_name": "Python 3 (ipykernel)",
   "language": "python",
   "name": "python3"
  },
  "language_info": {
   "codemirror_mode": {
    "name": "ipython",
    "version": 3
   },
   "file_extension": ".py",
   "mimetype": "text/x-python",
   "name": "python",
   "nbconvert_exporter": "python",
   "pygments_lexer": "ipython3",
   "version": "3.7.0"
  }
 },
 "nbformat": 4,
 "nbformat_minor": 5
}
