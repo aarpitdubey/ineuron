{
  "nbformat": 4,
  "nbformat_minor": 0,
  "metadata": {
    "colab": {
      "name": "Assignment_3.ipynb",
      "provenance": [],
      "collapsed_sections": [],
      "mount_file_id": "1Om40Sjc6wc5ysjQmR2ZWvNFvJn56Ob5j",
      "authorship_tag": "ABX9TyPUevn6OiPUo93Hca3lE6Gg",
      "include_colab_link": true
    },
    "kernelspec": {
      "name": "python3",
      "display_name": "Python 3"
    },
    "language_info": {
      "name": "python"
    }
  },
  "cells": [
    {
      "cell_type": "markdown",
      "metadata": {
        "id": "view-in-github",
        "colab_type": "text"
      },
      "source": [
        "<a href=\"https://colab.research.google.com/github/aarpitdubey/ineuron/blob/main/Python/Python%20Basic%20Assignment/Assignment_3.ipynb\" target=\"_parent\"><img src=\"https://colab.research.google.com/assets/colab-badge.svg\" alt=\"Open In Colab\"/></a>"
      ]
    },
    {
      "cell_type": "markdown",
      "source": [
        "**Ques 1: Why are functions advantageous to have in your programs?**\n",
        "\n",
        "**Ans :** Whenever, the programmer need to `re-write the same code` or make a `duplicate` a copy of that code using `Ctrl + C` and `Ctrl + V` it become `unfeasible or considered not a good practice to do` in large code bank or coding projects Hence, functions are use to `reduce the work of compiler and programmer` for the `compilation of`, and `executional space and time` taken by the duplicate code.\n",
        "\n",
        "\n",
        "\n",
        "```\n",
        "def functionName(parameters):\n",
        "  \"\"\"doc string\"\"\"\n",
        "  1. statements (function body)\n",
        "  2. return statement \n",
        "```\n",
        "\n",
        "\n",
        "\n"
      ],
      "metadata": {
        "id": "fVMfCm55RMFu"
      }
    },
    {
      "cell_type": "code",
      "execution_count": 1,
      "metadata": {
        "colab": {
          "base_uri": "https://localhost:8080/"
        },
        "id": "_arB2sMnRBKk",
        "outputId": "d258e25f-90f3-420a-b8b4-d133d25d633e"
      },
      "outputs": [
        {
          "name": "stdout",
          "output_type": "stream",
          "text": [
            "Write a name :  Arpit\n",
            "Your Message :  Hope, you are doing great :)\n"
          ]
        }
      ],
      "source": [
        "# Example : For Custom or User-defined Function!\n",
        "name = input(\"Write a name :  \")\n",
        "message = input(\"Your Message :  \")\n",
        "\n",
        "def greet(name, message):\n",
        "  \"\"\"\"This fuction is used to greet various people using their name and message.\"\"\"\n",
        "  return f\"Good Day, {name}!\\n{message}\""
      ]
    },
    {
      "cell_type": "code",
      "source": [
        "print(greet(name, message))"
      ],
      "metadata": {
        "id": "cO564wgoYc03",
        "colab": {
          "base_uri": "https://localhost:8080/"
        },
        "outputId": "7f3216cd-96ec-4962-b666-7469ec11d3b2"
      },
      "execution_count": 2,
      "outputs": [
        {
          "output_type": "stream",
          "name": "stdout",
          "text": [
            "Good Day, Arpit!\n",
            "Hope, you are doing great :)\n"
          ]
        }
      ]
    },
    {
      "cell_type": "code",
      "source": [
        "print(greet(\"Shreya\", message)) # Anonymous name or Some random Parameter passing"
      ],
      "metadata": {
        "colab": {
          "base_uri": "https://localhost:8080/"
        },
        "id": "5e--KiMdZtJA",
        "outputId": "9a808188-05eb-4f43-e286-289644a0a66b"
      },
      "execution_count": 3,
      "outputs": [
        {
          "output_type": "stream",
          "name": "stdout",
          "text": [
            "Good Day, Shreya!\n",
            "Hope, you are doing great :)\n"
          ]
        }
      ]
    },
    {
      "cell_type": "code",
      "source": [
        "print(greet(name=\"Shudhansu Kumar\", message=\"Hope, you are doing great\\nYou and krish are providing amazing..\\nRevolutionary educational stuffs to ineuron students\\nThankyou :)\")) # Checking The Dynamic insertion or modification by passing different parameter"
      ],
      "metadata": {
        "colab": {
          "base_uri": "https://localhost:8080/"
        },
        "id": "AltKvuITZ0Bg",
        "outputId": "66ed8cc1-2ab5-4b62-a99e-492fb7f9ca9e"
      },
      "execution_count": 4,
      "outputs": [
        {
          "output_type": "stream",
          "name": "stdout",
          "text": [
            "Good Day, Shudhansu Kumar!\n",
            "Hope, you are doing great\n",
            "You and krish are providing amazing..\n",
            "Revolutionary educational stuffs to ineuron students\n",
            "Thankyou :)\n"
          ]
        }
      ]
    },
    {
      "cell_type": "markdown",
      "source": [
        "### **Observations :**\n",
        "As we can see in the above example, fuctions are very useful feature\n",
        "<br>Function helps:\n",
        "1. In **reduction of code lines**.\n",
        "2. In **reduction of effort** for writing multiple lines.\n",
        "3. In **reduction of time consume** to write multi-line code.\n",
        "4. It provide **Dynamic insertions or modification** (modification become easy)\n",
        "5. It provide **Code re-usability** as a feature. \n"
      ],
      "metadata": {
        "id": "zgINSi0ncnGi"
      }
    },
    {
      "cell_type": "markdown",
      "source": [
        "**Ques 2: When does the code in a function run: when it's specified or when it's called?**\n",
        "\n",
        "**Ans :**  Whenever we **called** that function and passed the required parameter, if it the demand of that fuction than the **fuction start it's execution**.\n",
        "\n",
        "When the **fuction specified**, at that time we only define our ** presentation, persistence and business logics** in our program but when we** called respective functions** than these three logic start there execution."
      ],
      "metadata": {
        "id": "vNNXB02Dfqmh"
      }
    },
    {
      "cell_type": "code",
      "source": [
        "# Example Specification of functionsm using simple Gpay logic on spent money.\n",
        "\n",
        "print(\"Please enter you account 4 digit pin : \", end='')\n",
        "pin = int(input())\n",
        "\n",
        "def presentationLogic(key, pin):\n",
        "  \n",
        "  # Authentication\n",
        "  if(key==pin): \n",
        "      clientValue=10000\n",
        "      print(\"Amount of money you had spend today  : \", end='')\n",
        "      spendedMoney=int(input())\n",
        "      persistenceLogic(clientValue, spendedMoney)\n",
        "\n",
        "def businessLogic(gpayBalance, spendedMoney):\n",
        "  #Amount Deduction - business logic\n",
        "  gpayBalance = gpayBalance - spendedMoney\n",
        "  ##Successfull Transaction message\n",
        "  print(\"Your Transaction is Successful ...\")\n",
        "  return gpayBalance\n",
        "\n",
        "def persistenceLogic(clientValue, spendedMoney):\n",
        "  database = clientValue # Variable as small Storage unit\n",
        "  #After Udating the store value\n",
        "  database = businessLogic(database, spendedMoney)\n",
        "  gpayWallet(database)\n",
        "\n",
        "def gpayWallet(balance):\n",
        "  #To print the balance\n",
        "  print(f\"Your Current GPay account balance is : {balance}\")\n",
        "\n",
        "def login(pin):\n",
        "  key = 3256 # Saved GPay Pin, inside app known by only user of the account \n",
        "  if(key==pin):\n",
        "    presentationLogic(key, pin)\n",
        "  else:\n",
        "    print(\"You have entered a wrong Pin\")\n",
        "    print(\"Try again ... \")"
      ],
      "metadata": {
        "colab": {
          "base_uri": "https://localhost:8080/"
        },
        "id": "a0xrdSwyfqTR",
        "outputId": "819b082f-89d4-4bc3-fd3c-d03316b22a08"
      },
      "execution_count": 5,
      "outputs": [
        {
          "name": "stdout",
          "output_type": "stream",
          "text": [
            "Please enter you account 4 digit pin : 3256\n"
          ]
        }
      ]
    },
    {
      "cell_type": "markdown",
      "source": [
        "## **Observations :**\n",
        "1. As we define all the functionalities from **Presentation Logic**, **Persistence Logic**, to **Presentation Logic.**\n",
        "\n",
        "2. But, not even a single fuctionality works because we are **not calling** any of them.\n",
        "let's call the **login()** fuctionality"
      ],
      "metadata": {
        "id": "-VqV1HsVtfZ-"
      }
    },
    {
      "cell_type": "code",
      "source": [
        "login(pin)"
      ],
      "metadata": {
        "colab": {
          "base_uri": "https://localhost:8080/"
        },
        "id": "Hug7zk6jtNIb",
        "outputId": "9b4f268d-7894-4559-d746-1cb4aafb5ba7"
      },
      "execution_count": 6,
      "outputs": [
        {
          "output_type": "stream",
          "name": "stdout",
          "text": [
            "Amount of money you had spend today  : 3500\n",
            "Your Transaction is Successful ...\n",
            "Your Current GPay account balance is : 6500\n"
          ]
        }
      ]
    },
    {
      "cell_type": "markdown",
      "source": [
        "3. Now, we can see all the fuctionalities working when we call login() function.\n",
        "\n",
        "4. After calling the execution of **presentation Logic, Persistence Logic and Business Logic** works."
      ],
      "metadata": {
        "id": "ajvMhSm4fqEC"
      }
    },
    {
      "cell_type": "markdown",
      "source": [
        "**Ques 3: What statement creates a function?**\n",
        "\n",
        "**Ans :** ```def``` keyword is used to define the function in python.\n",
        "\n",
        "Syntax of function in python is like:\n",
        "```\n",
        "def funtionName(parameter_1, parameter_2, .., parameter_n):\n",
        "   \"\"\"doc string, it gives description about the fuction. \n",
        "    We can called it by using functionName.__doc___ \"\"\"\n",
        "\n",
        "    --- function body start ---\n",
        "    Statement_1\n",
        "    Statement_2\n",
        "    .\n",
        "    .\n",
        "    .\n",
        "    Statement_n\n",
        "    --- function body end ---\n",
        "\n",
        "  return value\n",
        "\n",
        "\n",
        "```\n",
        "\n",
        "This how we can create a function in python. Every language has their own Syntax to create a function."
      ],
      "metadata": {
        "id": "ozQHadPh6Qqs"
      }
    },
    {
      "cell_type": "markdown",
      "source": [
        "**Ques 4: What is the difference between a function and a function call?**\n",
        "\n",
        "**Ans :** From the above example we can easily understant the difference b/w function and function call.\n",
        "\n",
        "When I defined the presentation logic, persistence logic and business logic I just define the fuctionality or the procedures or steps to accomplished a particular task.\n",
        "\n",
        "Example: Let take the example of **businessLogic(gpayBalance, spendedMoney)** function\n",
        "\n",
        "```\n",
        "def businessLogic(gpayBalance, spendedMoney):\n",
        "  gpayBalance = gpayBalance - spendedMoney\n",
        "  print(\"Your Transaction is Successful ...\")\n",
        "  return gpayBalance\n",
        "```\n",
        "Here, we are giving gpayBalance and spendedMoney as **parameter** to businnessLogic() function.\n",
        "\n",
        "inside, the function we update the gpayBalance by **substracting** the spendedMoney and than return the gpayBalance.\n",
        "\n",
        "but it **won't work automatically**, we **pass our pin** first from **login() function** than it **authenticate** the value in **presentationLogic()** and that presentationLogic() function **calls** the **persistenceLogic()** and persistenceLogic() calls ** **bold text**businessLogic() **for the calculation and than the **values update** in the persistenceLogic() and than again **persistenceLogic()** function **calls**  **gpayWallet()** function for printing.\n",
        "\n",
        "**Conclusion:**\n",
        "\n",
        "**Fuction** are the steps/procedure to accomplished certain task or to achieve the expected output/result.\n",
        "\n",
        "**Function calls** are used for the execution of these steps/procedures or functions for accomplishining the task."
      ],
      "metadata": {
        "id": "dLeWJUwSwKCy"
      }
    },
    {
      "cell_type": "markdown",
      "source": [
        "**Ques 5: How many global scopes are there in a Python program? How many local scopes?**\n",
        "\n",
        "**Ans :** There is **only one global scope** in python and whenever we **call a function** a **local scope has been created**."
      ],
      "metadata": {
        "id": "C-DOvIpB8a98"
      }
    },
    {
      "cell_type": "code",
      "source": [
        "# Example\n",
        "#Global variable\n",
        "marksObtained=80\n",
        "\n",
        "# function without parameter calling global variable from inside the function marksObtained()\n",
        "def myMarks():\n",
        "  print(marksObtained)\n",
        "myMarks()\n",
        "\n",
        "#printing global variable marksObtained\n",
        "print(marksObtained)"
      ],
      "metadata": {
        "colab": {
          "base_uri": "https://localhost:8080/"
        },
        "id": "Xj3BSuwlvAIM",
        "outputId": "5e499c85-efe0-4976-ba07-45332e762bdf"
      },
      "execution_count": 7,
      "outputs": [
        {
          "output_type": "stream",
          "name": "stdout",
          "text": [
            "80\n",
            "80\n"
          ]
        }
      ]
    },
    {
      "cell_type": "markdown",
      "source": [
        "## **Observation :**\n",
        "\n",
        "1. Hence, we can see a variable **created in the main body** of the Python code is a **global variable** and belongs to the **global scope**. Global variables are **available** from within any scope, **global and local**."
      ],
      "metadata": {
        "id": "9p0t6HoU-GUE"
      }
    },
    {
      "cell_type": "code",
      "source": [
        "# Example\n",
        "def myfunc():\n",
        "  marksObtained = 95 # Local variable\n",
        "  print(marksObtained)\n",
        "\n",
        "myfunc() # gives 95\n",
        "print(marksObtained) # print 80"
      ],
      "metadata": {
        "colab": {
          "base_uri": "https://localhost:8080/"
        },
        "id": "qjZPXb34-CdS",
        "outputId": "b2d9cdcc-eaf5-49b4-95a9-d63431142291"
      },
      "execution_count": 8,
      "outputs": [
        {
          "output_type": "stream",
          "name": "stdout",
          "text": [
            "95\n",
            "80\n"
          ]
        }
      ]
    },
    {
      "cell_type": "markdown",
      "source": [
        "2. A variable **created inside a function** belongs to the **local scope** of that function, and **can only be used inside** that function."
      ],
      "metadata": {
        "id": "bfyTHYAW-49E"
      }
    },
    {
      "cell_type": "markdown",
      "source": [
        "**Ques 6: What happens to variables in a local scope when the function call returns?**\n",
        "\n",
        "**Ans :** **local scope** has been **destroyed** whenever the **function call returns** or the **return statement** of a function is **executed**. \n",
        "All the variable has been **destroyed** or forgotten or **cleared** from the memory."
      ],
      "metadata": {
        "id": "V8trMHpT_owM"
      }
    },
    {
      "cell_type": "code",
      "source": [
        "#Example:\n",
        "\n",
        "def screenLockCode():\n",
        "  actualPin=1442\n",
        "  return actualPin\n",
        "\n",
        "def unlockMobile(pin):\n",
        "  screenPin = pin \n",
        "  actualPin = screenLockCode() - 10 # return value used in an expression \n",
        "  print(f\"location of actual pin is : {id(actualPin)}\")\n",
        "  if(actualPin == screenPin):\n",
        "    print(\"Mobile Phone unlocked successfully ...\")\n",
        "  else:\n",
        "    print(\"Invalid Pin has been entered !!\")\n",
        "\n",
        "unlockMobile(1432)"
      ],
      "metadata": {
        "colab": {
          "base_uri": "https://localhost:8080/"
        },
        "id": "6kqJyKHl-trh",
        "outputId": "d3dbe64c-b03b-4ab4-899b-ba438c43bc75"
      },
      "execution_count": 9,
      "outputs": [
        {
          "output_type": "stream",
          "name": "stdout",
          "text": [
            "location of actual pin is : 140619031452592\n",
            "Mobile Phone unlocked successfully ...\n"
          ]
        }
      ]
    },
    {
      "cell_type": "code",
      "source": [
        "print(f\"location of actual pin is : {id(actualPin)}\") #Not available after function call"
      ],
      "metadata": {
        "colab": {
          "base_uri": "https://localhost:8080/",
          "height": 165
        },
        "id": "qFCfSghoLxP7",
        "outputId": "d2afca20-0fc2-45ad-8beb-3e63a5ecc822"
      },
      "execution_count": 10,
      "outputs": [
        {
          "output_type": "error",
          "ename": "NameError",
          "evalue": "ignored",
          "traceback": [
            "\u001b[0;31m---------------------------------------------------------------------------\u001b[0m",
            "\u001b[0;31mNameError\u001b[0m                                 Traceback (most recent call last)",
            "\u001b[0;32m<ipython-input-10-5646fce7d462>\u001b[0m in \u001b[0;36m<module>\u001b[0;34m()\u001b[0m\n\u001b[0;32m----> 1\u001b[0;31m \u001b[0mprint\u001b[0m\u001b[0;34m(\u001b[0m\u001b[0;34mf\"location of actual pin is : {id(actualPin)}\"\u001b[0m\u001b[0;34m)\u001b[0m \u001b[0;31m#Not available after function call\u001b[0m\u001b[0;34m\u001b[0m\u001b[0;34m\u001b[0m\u001b[0m\n\u001b[0m",
            "\u001b[0;31mNameError\u001b[0m: name 'actualPin' is not defined"
          ]
        }
      ]
    },
    {
      "cell_type": "markdown",
      "source": [
        "### **Observation :**\n",
        "Hence actualPin local variable has been destroyed after the function call and function returned."
      ],
      "metadata": {
        "id": "fraiWMzinCT2"
      }
    },
    {
      "cell_type": "markdown",
      "source": [
        "**Ques 7: What is the concept of a return value? Is it possible to have a return value in an expression?**\n",
        "\n",
        "**Ans :** A return value is the value that a function call evaluates to.\n",
        " Like any other value, a return value can be used as part of an expression.\n",
        " \n",
        " In the above example, I used the return value in an expression to match the pin to actual pin for unlocking the mobile screen.\n",
        "\n",
        "```\n",
        "def screenLockCode():\n",
        "  actualPin=1442\n",
        "  return actualPin\n",
        "\n",
        "def unlockMobile(pin):\n",
        "  screenPin = pin\n",
        "  actualPin = screenLockCode() - 10 # return value used in an expression \n",
        "  print(f\"location of actual pin is : {id(actualPin)}\")\n",
        "  if(actualPin == screenPin):\n",
        "    print(\"Mobile Phone unlocked successfully ...\")\n",
        "  else:\n",
        "    print(\"Invalid Pin has been entered !!\")\n",
        "\n",
        "unlockMobile(1432)\n",
        "```\n",
        "\n",
        "In the unlockMobile() fuction pin entered is actally 10 less than the return value of screenLockCode() function but the logic is written in such a way that, it open the mobile phone if actualPin is 10 less than the returned actualPin."
      ],
      "metadata": {
        "id": "c-ct3uF2NfL0"
      }
    },
    {
      "cell_type": "markdown",
      "source": [
        "**Ques 8: If a function does not have a return statement, what is the return value of a call to that function?**\n",
        "\n",
        "**Ans :** If there is no return value in a function than it's return value is `None`.\n",
        "\n",
        "```\n",
        "def fuctionReturningNone():\n",
        "  pass\n",
        "```\n",
        "\n"
      ],
      "metadata": {
        "id": "HvAgen6fQYe0"
      }
    },
    {
      "cell_type": "code",
      "source": [
        "def fuctionReturningNone():\n",
        "  pass #\n",
        "\n",
        "print(fuctionReturningNone())"
      ],
      "metadata": {
        "colab": {
          "base_uri": "https://localhost:8080/"
        },
        "id": "I6bfrKSZL09s",
        "outputId": "1d4d095a-c193-4010-d3b2-c8601dbfc5b1"
      },
      "execution_count": 11,
      "outputs": [
        {
          "output_type": "stream",
          "name": "stdout",
          "text": [
            "None\n"
          ]
        }
      ]
    },
    {
      "cell_type": "markdown",
      "source": [
        "### **Observation :**\n",
        "\n",
        "1. When there is no return value and no pass keyword it gives error.\n",
        "\n",
        "2. When we use pass keyword the fuction doesn't required any return value or any statement.\n",
        "\n",
        "3. when we print the function the return value is `None`."
      ],
      "metadata": {
        "id": "r6I-xfx0THGt"
      }
    },
    {
      "cell_type": "markdown",
      "source": [
        "**Ques 9: How do you make a function variable refer to the global variable?**\n",
        "\n",
        "**Ans :**  A global statement will force a variable in a function to refer to the global variable. If you want to refer to a global variable in a function, you can use the `global` keyword to declare which variables are global."
      ],
      "metadata": {
        "id": "JMIBq6FJUVaT"
      }
    },
    {
      "cell_type": "code",
      "source": [
        "#Example\n",
        "marksObtained = 90 #global variable\n",
        "\n",
        "def reportCard():\n",
        "   global marksObtained # local variable declared as global variable using \"global\" keyword and now that refered to above global variable \n",
        "   marksObtained += 5\n",
        "reportCard()\n",
        "\n",
        "print(marksObtained) # we can print it outside the fuction without function call"
      ],
      "metadata": {
        "colab": {
          "base_uri": "https://localhost:8080/"
        },
        "id": "wBF1Vs3WS4k9",
        "outputId": "6512d180-53ae-4529-9067-83408ce13bdd"
      },
      "execution_count": 12,
      "outputs": [
        {
          "output_type": "stream",
          "name": "stdout",
          "text": [
            "95\n"
          ]
        }
      ]
    },
    {
      "cell_type": "markdown",
      "source": [
        "**Ques 10: What is the data type of None?**\n",
        "\n",
        "**Ans :** Let's find out the datatype of None using **type()** function."
      ],
      "metadata": {
        "id": "Tupp6rTHXs_d"
      }
    },
    {
      "cell_type": "code",
      "source": [
        "type(None)"
      ],
      "metadata": {
        "colab": {
          "base_uri": "https://localhost:8080/"
        },
        "id": "nWx3OwUTVXW9",
        "outputId": "36df213b-c4e1-4ba7-e0d2-b03190c8f65a"
      },
      "execution_count": 13,
      "outputs": [
        {
          "output_type": "execute_result",
          "data": {
            "text/plain": [
              "NoneType"
            ]
          },
          "metadata": {},
          "execution_count": 13
        }
      ]
    },
    {
      "cell_type": "markdown",
      "source": [
        "### **Observation :**\n",
        "Hence, the data type of None is `NoneType`."
      ],
      "metadata": {
        "id": "Avhed7nWYLWF"
      }
    },
    {
      "cell_type": "markdown",
      "source": [
        "**Ques 11: What does the sentence `import areallyourpetsnamederic` do?**\n",
        "\n",
        "**Ans :** The `import keyword` is use to **import the module or file** inside our python project. Hence if this module or file is existed than it will import that module otherwise shows an error."
      ],
      "metadata": {
        "id": "VfoIgv6AZh1z"
      }
    },
    {
      "cell_type": "code",
      "source": [
        "from google.colab import drive\n",
        "drive.mount('/content/drive')"
      ],
      "metadata": {
        "colab": {
          "base_uri": "https://localhost:8080/"
        },
        "id": "6lebRyyWcA5D",
        "outputId": "0227b92d-1b24-4cd5-9ee9-dc60472adc65"
      },
      "execution_count": 14,
      "outputs": [
        {
          "output_type": "stream",
          "name": "stdout",
          "text": [
            "Drive already mounted at /content/drive; to attempt to forcibly remount, call drive.mount(\"/content/drive\", force_remount=True).\n"
          ]
        }
      ]
    },
    {
      "cell_type": "code",
      "source": [
        "import sys\n",
        "sys.path.insert(0,'/content/drive/MyDrive')\n",
        "\n",
        "import areallyourpetsnamederic "
      ],
      "metadata": {
        "id": "Qrj7pyZfY_mF"
      },
      "execution_count": 15,
      "outputs": []
    },
    {
      "cell_type": "code",
      "source": [
        "areallyourpetsnamederic.__dict__"
      ],
      "metadata": {
        "colab": {
          "base_uri": "https://localhost:8080/"
        },
        "id": "mLBqWe-Yapv9",
        "outputId": "9a8214d8-99b2-47ab-bfd8-6bb280384324"
      },
      "execution_count": 16,
      "outputs": [
        {
          "output_type": "execute_result",
          "data": {
            "text/plain": [
              "{'__builtins__': {'ArithmeticError': ArithmeticError,\n",
              "  'AssertionError': AssertionError,\n",
              "  'AttributeError': AttributeError,\n",
              "  'BaseException': BaseException,\n",
              "  'BlockingIOError': BlockingIOError,\n",
              "  'BrokenPipeError': BrokenPipeError,\n",
              "  'BufferError': BufferError,\n",
              "  'BytesWarning': BytesWarning,\n",
              "  'ChildProcessError': ChildProcessError,\n",
              "  'ConnectionAbortedError': ConnectionAbortedError,\n",
              "  'ConnectionError': ConnectionError,\n",
              "  'ConnectionRefusedError': ConnectionRefusedError,\n",
              "  'ConnectionResetError': ConnectionResetError,\n",
              "  'DeprecationWarning': DeprecationWarning,\n",
              "  'EOFError': EOFError,\n",
              "  'Ellipsis': Ellipsis,\n",
              "  'EnvironmentError': OSError,\n",
              "  'Exception': Exception,\n",
              "  'False': False,\n",
              "  'FileExistsError': FileExistsError,\n",
              "  'FileNotFoundError': FileNotFoundError,\n",
              "  'FloatingPointError': FloatingPointError,\n",
              "  'FutureWarning': FutureWarning,\n",
              "  'GeneratorExit': GeneratorExit,\n",
              "  'IOError': OSError,\n",
              "  'ImportError': ImportError,\n",
              "  'ImportWarning': ImportWarning,\n",
              "  'IndentationError': IndentationError,\n",
              "  'IndexError': IndexError,\n",
              "  'InterruptedError': InterruptedError,\n",
              "  'IsADirectoryError': IsADirectoryError,\n",
              "  'KeyError': KeyError,\n",
              "  'KeyboardInterrupt': KeyboardInterrupt,\n",
              "  'LookupError': LookupError,\n",
              "  'MemoryError': MemoryError,\n",
              "  'ModuleNotFoundError': ModuleNotFoundError,\n",
              "  'NameError': NameError,\n",
              "  'None': None,\n",
              "  'NotADirectoryError': NotADirectoryError,\n",
              "  'NotImplemented': NotImplemented,\n",
              "  'NotImplementedError': NotImplementedError,\n",
              "  'OSError': OSError,\n",
              "  'OverflowError': OverflowError,\n",
              "  'PendingDeprecationWarning': PendingDeprecationWarning,\n",
              "  'PermissionError': PermissionError,\n",
              "  'ProcessLookupError': ProcessLookupError,\n",
              "  'RecursionError': RecursionError,\n",
              "  'ReferenceError': ReferenceError,\n",
              "  'ResourceWarning': ResourceWarning,\n",
              "  'RuntimeError': RuntimeError,\n",
              "  'RuntimeWarning': RuntimeWarning,\n",
              "  'StopAsyncIteration': StopAsyncIteration,\n",
              "  'StopIteration': StopIteration,\n",
              "  'SyntaxError': SyntaxError,\n",
              "  'SyntaxWarning': SyntaxWarning,\n",
              "  'SystemError': SystemError,\n",
              "  'SystemExit': SystemExit,\n",
              "  'TabError': TabError,\n",
              "  'TimeoutError': TimeoutError,\n",
              "  'True': True,\n",
              "  'TypeError': TypeError,\n",
              "  'UnboundLocalError': UnboundLocalError,\n",
              "  'UnicodeDecodeError': UnicodeDecodeError,\n",
              "  'UnicodeEncodeError': UnicodeEncodeError,\n",
              "  'UnicodeError': UnicodeError,\n",
              "  'UnicodeTranslateError': UnicodeTranslateError,\n",
              "  'UnicodeWarning': UnicodeWarning,\n",
              "  'UserWarning': UserWarning,\n",
              "  'ValueError': ValueError,\n",
              "  'Warning': Warning,\n",
              "  'ZeroDivisionError': ZeroDivisionError,\n",
              "  '__IPYTHON__': True,\n",
              "  '__build_class__': <function __build_class__>,\n",
              "  '__debug__': True,\n",
              "  '__doc__': \"Built-in functions, exceptions, and other objects.\\n\\nNoteworthy: None is the `nil' object; Ellipsis represents `...' in slices.\",\n",
              "  '__import__': <function __import__>,\n",
              "  '__loader__': _frozen_importlib.BuiltinImporter,\n",
              "  '__name__': 'builtins',\n",
              "  '__package__': '',\n",
              "  '__spec__': ModuleSpec(name='builtins', loader=<class '_frozen_importlib.BuiltinImporter'>),\n",
              "  'abs': <function abs>,\n",
              "  'all': <function all>,\n",
              "  'any': <function any>,\n",
              "  'ascii': <function ascii>,\n",
              "  'bin': <function bin>,\n",
              "  'bool': bool,\n",
              "  'breakpoint': <function breakpoint>,\n",
              "  'bytearray': bytearray,\n",
              "  'bytes': bytes,\n",
              "  'callable': <function callable>,\n",
              "  'chr': <function chr>,\n",
              "  'classmethod': classmethod,\n",
              "  'compile': <function compile>,\n",
              "  'complex': complex,\n",
              "  'copyright': Copyright (c) 2001-2022 Python Software Foundation.\n",
              "  All Rights Reserved.\n",
              "  \n",
              "  Copyright (c) 2000 BeOpen.com.\n",
              "  All Rights Reserved.\n",
              "  \n",
              "  Copyright (c) 1995-2001 Corporation for National Research Initiatives.\n",
              "  All Rights Reserved.\n",
              "  \n",
              "  Copyright (c) 1991-1995 Stichting Mathematisch Centrum, Amsterdam.\n",
              "  All Rights Reserved.,\n",
              "  'credits':     Thanks to CWI, CNRI, BeOpen.com, Zope Corporation and a cast of thousands\n",
              "      for supporting Python development.  See www.python.org for more information.,\n",
              "  'delattr': <function delattr>,\n",
              "  'dict': dict,\n",
              "  'dir': <function dir>,\n",
              "  'display': <function IPython.core.display.display>,\n",
              "  'divmod': <function divmod>,\n",
              "  'dreload': <function IPython.lib.deepreload._dreload>,\n",
              "  'enumerate': enumerate,\n",
              "  'eval': <function eval>,\n",
              "  'exec': <function exec>,\n",
              "  'execfile': <function _pydev_imps._pydev_execfile.execfile>,\n",
              "  'filter': filter,\n",
              "  'float': float,\n",
              "  'format': <function format>,\n",
              "  'frozenset': frozenset,\n",
              "  'get_ipython': <bound method InteractiveShell.get_ipython of <google.colab._shell.Shell object at 0x7fe47c761fd0>>,\n",
              "  'getattr': <function getattr>,\n",
              "  'globals': <function globals>,\n",
              "  'hasattr': <function hasattr>,\n",
              "  'hash': <function hash>,\n",
              "  'help': Type help() for interactive help, or help(object) for help about object.,\n",
              "  'hex': <function hex>,\n",
              "  'id': <function id>,\n",
              "  'input': <bound method Kernel.raw_input of <google.colab._kernel.Kernel object at 0x7fe47acf9fd0>>,\n",
              "  'int': int,\n",
              "  'isinstance': <function isinstance>,\n",
              "  'issubclass': <function issubclass>,\n",
              "  'iter': <function iter>,\n",
              "  'len': <function len>,\n",
              "  'license': Type license() to see the full license text,\n",
              "  'list': list,\n",
              "  'locals': <function locals>,\n",
              "  'map': map,\n",
              "  'max': <function max>,\n",
              "  'memoryview': memoryview,\n",
              "  'min': <function min>,\n",
              "  'next': <function next>,\n",
              "  'object': object,\n",
              "  'oct': <function oct>,\n",
              "  'open': <function io.open>,\n",
              "  'ord': <function ord>,\n",
              "  'pow': <function pow>,\n",
              "  'print': <function print>,\n",
              "  'property': property,\n",
              "  'range': range,\n",
              "  'repr': <function repr>,\n",
              "  'reversed': reversed,\n",
              "  'round': <function round>,\n",
              "  'runfile': <function _pydev_bundle.pydev_umd.runfile>,\n",
              "  'set': set,\n",
              "  'setattr': <function setattr>,\n",
              "  'slice': slice,\n",
              "  'sorted': <function sorted>,\n",
              "  'staticmethod': staticmethod,\n",
              "  'str': str,\n",
              "  'sum': <function sum>,\n",
              "  'super': super,\n",
              "  'tuple': tuple,\n",
              "  'type': type,\n",
              "  'vars': <function vars>,\n",
              "  'zip': zip},\n",
              " '__cached__': '/content/drive/MyDrive/__pycache__/areallyourpetsnamederic.cpython-37.pyc',\n",
              " '__doc__': None,\n",
              " '__file__': '/content/drive/MyDrive/areallyourpetsnamederic.py',\n",
              " '__loader__': <_frozen_importlib_external.SourceFileLoader at 0x7fe46b646550>,\n",
              " '__name__': 'areallyourpetsnamederic',\n",
              " '__package__': '',\n",
              " '__spec__': ModuleSpec(name='areallyourpetsnamederic', loader=<_frozen_importlib_external.SourceFileLoader object at 0x7fe46b646550>, origin='/content/drive/MyDrive/areallyourpetsnamederic.py'),\n",
              " 'petname': <function areallyourpetsnamederic.petname>}"
            ]
          },
          "metadata": {},
          "execution_count": 16
        }
      ]
    },
    {
      "cell_type": "markdown",
      "source": [
        "**Ques 12: If you had a bacon() feature in a spam module, what would you call it after importing spam?**\n",
        "\n",
        "**Ans :** After import the spam module or any module we can call it's function using:\n",
        "\n",
        "\n",
        "\n",
        "```\n",
        "import moduleName\n",
        "\n",
        "moduleName.moduleFunctionName()\n",
        "```\n",
        " So, here we call the bacon() as **spam.bacon()**\n",
        "\n",
        "\n",
        "\n",
        "```\n",
        "import spam\n",
        "\n",
        "spam.bacon()\n",
        "```\n",
        "\n",
        "\n"
      ],
      "metadata": {
        "id": "I_ZVLNvAh-iP"
      }
    },
    {
      "cell_type": "markdown",
      "source": [
        "**Ques 13: What can you do to save a programme from crashing if it encounters an error?**\n",
        "\n",
        "**Ans :** Whatever line of code that might create an error or might cause any exception we handled that error using try and except clause.\n",
        "\n",
        "try clause throw that error object to except block and except performed the programmer defined code.\n",
        "\n",
        "So the error never gonna happened hence we save the program from crashing."
      ],
      "metadata": {
        "id": "kOfEextNi4kn"
      }
    },
    {
      "cell_type": "code",
      "source": [
        "#Example without try & except clause\n",
        "def div(num1, num2):\n",
        "\t\tres = num1 // num2\n",
        "\t\tprint(f\"Answer :  {res}\")\n",
        "\n",
        "div(3, 0)"
      ],
      "metadata": {
        "colab": {
          "base_uri": "https://localhost:8080/",
          "height": 321
        },
        "id": "0SabpvIekruT",
        "outputId": "080e56a4-7217-4e2f-8d49-0cf9fbb7495f"
      },
      "execution_count": 17,
      "outputs": [
        {
          "output_type": "error",
          "ename": "ZeroDivisionError",
          "evalue": "ignored",
          "traceback": [
            "\u001b[0;31m---------------------------------------------------------------------------\u001b[0m",
            "\u001b[0;31mZeroDivisionError\u001b[0m                         Traceback (most recent call last)",
            "\u001b[0;32m<ipython-input-17-7033ade216ee>\u001b[0m in \u001b[0;36m<module>\u001b[0;34m()\u001b[0m\n\u001b[1;32m      4\u001b[0m                 \u001b[0mprint\u001b[0m\u001b[0;34m(\u001b[0m\u001b[0;34mf\"Answer :  {res}\"\u001b[0m\u001b[0;34m)\u001b[0m\u001b[0;34m\u001b[0m\u001b[0;34m\u001b[0m\u001b[0m\n\u001b[1;32m      5\u001b[0m \u001b[0;34m\u001b[0m\u001b[0m\n\u001b[0;32m----> 6\u001b[0;31m \u001b[0mdiv\u001b[0m\u001b[0;34m(\u001b[0m\u001b[0;36m3\u001b[0m\u001b[0;34m,\u001b[0m \u001b[0;36m0\u001b[0m\u001b[0;34m)\u001b[0m\u001b[0;34m\u001b[0m\u001b[0;34m\u001b[0m\u001b[0m\n\u001b[0m",
            "\u001b[0;32m<ipython-input-17-7033ade216ee>\u001b[0m in \u001b[0;36mdiv\u001b[0;34m(num1, num2)\u001b[0m\n\u001b[1;32m      1\u001b[0m \u001b[0;31m#Example without try & except clause\u001b[0m\u001b[0;34m\u001b[0m\u001b[0;34m\u001b[0m\u001b[0;34m\u001b[0m\u001b[0m\n\u001b[1;32m      2\u001b[0m \u001b[0;32mdef\u001b[0m \u001b[0mdiv\u001b[0m\u001b[0;34m(\u001b[0m\u001b[0mnum1\u001b[0m\u001b[0;34m,\u001b[0m \u001b[0mnum2\u001b[0m\u001b[0;34m)\u001b[0m\u001b[0;34m:\u001b[0m\u001b[0;34m\u001b[0m\u001b[0;34m\u001b[0m\u001b[0m\n\u001b[0;32m----> 3\u001b[0;31m                 \u001b[0mres\u001b[0m \u001b[0;34m=\u001b[0m \u001b[0mnum1\u001b[0m \u001b[0;34m//\u001b[0m \u001b[0mnum2\u001b[0m\u001b[0;34m\u001b[0m\u001b[0;34m\u001b[0m\u001b[0m\n\u001b[0m\u001b[1;32m      4\u001b[0m                 \u001b[0mprint\u001b[0m\u001b[0;34m(\u001b[0m\u001b[0;34mf\"Answer :  {res}\"\u001b[0m\u001b[0;34m)\u001b[0m\u001b[0;34m\u001b[0m\u001b[0;34m\u001b[0m\u001b[0m\n\u001b[1;32m      5\u001b[0m \u001b[0;34m\u001b[0m\u001b[0m\n",
            "\u001b[0;31mZeroDivisionError\u001b[0m: integer division or modulo by zero"
          ]
        }
      ]
    },
    {
      "cell_type": "code",
      "source": [
        "#Example with try & except clause\n",
        "def div(num1, num2):\n",
        "\ttry:\n",
        "\t\tres = num1 // num2\n",
        "\t\tprint(f\"Answer :  {res}\")\n",
        "\texcept ZeroDivisionError:\n",
        "\t\tprint(\"Invalid inputs we cannot divide number by zero \")\n",
        "\n",
        "div(3, 0)\n"
      ],
      "metadata": {
        "colab": {
          "base_uri": "https://localhost:8080/"
        },
        "id": "4wPRxZH-h-HW",
        "outputId": "899830f8-0841-48db-88ce-578f43cb6745"
      },
      "execution_count": 18,
      "outputs": [
        {
          "output_type": "stream",
          "name": "stdout",
          "text": [
            "Invalid inputs we cannot divide number by zero \n"
          ]
        }
      ]
    },
    {
      "cell_type": "markdown",
      "source": [
        "**Ques 14: What is the purpose of the try clause? What is the purpose of the except clause?**\n",
        "\n",
        "**Ans :** `try clause` helps to identify the  line of code which is potentially can cause an error . code inside the `try clause` executes and whenever there is an error happens then `except clause `catches that error object and execute the handling code or programmer code for handling that particular error."
      ],
      "metadata": {
        "id": "wpfesot_lBVI"
      }
    }
  ]
}