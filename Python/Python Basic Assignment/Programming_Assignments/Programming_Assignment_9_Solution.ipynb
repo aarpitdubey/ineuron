{
  "nbformat": 4,
  "nbformat_minor": 0,
  "metadata": {
    "colab": {
      "provenance": [],
      "authorship_tag": "ABX9TyPwsdrDS2GCevnUi344GSDp",
      "include_colab_link": true
    },
    "kernelspec": {
      "name": "python3",
      "display_name": "Python 3"
    },
    "language_info": {
      "name": "python"
    }
  },
  "cells": [
    {
      "cell_type": "markdown",
      "metadata": {
        "id": "view-in-github",
        "colab_type": "text"
      },
      "source": [
        "<a href=\"https://colab.research.google.com/github/aarpitdubey/ineuron/blob/main/Python/Python%20Basic%20Assignment/Programming_Assignments/Programming_Assignment_9_Solution.ipynb\" target=\"_parent\"><img src=\"https://colab.research.google.com/assets/colab-badge.svg\" alt=\"Open In Colab\"/></a>"
      ]
    },
    {
      "cell_type": "markdown",
      "source": [
        "Q1. Write a Python program to check if the given number is a Disarium Number"
      ],
      "metadata": {
        "id": "ZuGod-U0irKM"
      }
    },
    {
      "cell_type": "code",
      "source": [
        "def is_disarium_number(num):\n",
        "    digit_count = len(str(num))\n",
        "    sum_of_digits = 0\n",
        "    temp = num\n",
        "\n",
        "    while temp > 0:\n",
        "        digit = temp % 10\n",
        "        sum_of_digits += digit ** digit_count\n",
        "        temp //= 10\n",
        "\n",
        "        digit_count -= 1\n",
        "\n",
        "    return num == sum_of_digits\n",
        "\n",
        "number = 89\n",
        "if is_disarium_number(number):\n",
        "    print(number, \"is a Disarium Number\")\n",
        "else:\n",
        "    print(number, \"is not a Disarium Number\")"
      ],
      "metadata": {
        "colab": {
          "base_uri": "https://localhost:8080/"
        },
        "id": "TLDPC61jisqr",
        "outputId": "316eadbe-17bc-411f-ef99-9674d6ac2d36"
      },
      "execution_count": 1,
      "outputs": [
        {
          "output_type": "stream",
          "name": "stdout",
          "text": [
            "89 is a Disarium Number\n"
          ]
        }
      ]
    },
    {
      "cell_type": "markdown",
      "source": [
        "Q2. Write a Python program to print all disarium numbers between 1 to 100"
      ],
      "metadata": {
        "id": "61v9OTDSizlj"
      }
    },
    {
      "cell_type": "code",
      "source": [
        "def find_disarium_numbers(start, end):\n",
        "    disarium_numbers = []\n",
        "\n",
        "    for num in range(start, end + 1):\n",
        "        digit_count = len(str(num))\n",
        "        sum_of_digits = 0\n",
        "        temp = num\n",
        "\n",
        "        while temp > 0:\n",
        "            digit = temp % 10\n",
        "            sum_of_digits += digit ** digit_count\n",
        "            temp //= 10\n",
        "\n",
        "            digit_count -= 1\n",
        "\n",
        "        if num == sum_of_digits:\n",
        "            disarium_numbers.append(num)\n",
        "\n",
        "    return disarium_numbers\n",
        "\n",
        "start = 1\n",
        "end = 100\n",
        "disarium_nums = find_disarium_numbers(start, end)\n",
        "print(\"Disarium numbers between\", start, \"and\", end, \"are:\", disarium_nums)"
      ],
      "metadata": {
        "colab": {
          "base_uri": "https://localhost:8080/"
        },
        "id": "_nzCDOQDiv8c",
        "outputId": "62f5210f-e461-4d73-e6b8-60acf650cb66"
      },
      "execution_count": 2,
      "outputs": [
        {
          "output_type": "stream",
          "name": "stdout",
          "text": [
            "Disarium numbers between 1 and 100 are: [1, 2, 3, 4, 5, 6, 7, 8, 9, 89]\n"
          ]
        }
      ]
    },
    {
      "cell_type": "markdown",
      "source": [
        "Q3. Write a Python program to check if the given number is a Happy Number"
      ],
      "metadata": {
        "id": "NY7z6ZgGi6-T"
      }
    },
    {
      "cell_type": "code",
      "source": [
        "def is_happy_number(num):\n",
        "    def calculate_next_number(num):\n",
        "        next_num = 0\n",
        "        while num > 0:\n",
        "            digit = num % 10\n",
        "            next_num += digit ** 2\n",
        "            num //= 10\n",
        "        return next_num\n",
        "\n",
        "    slow = num\n",
        "    fast = calculate_next_number(num)\n",
        "\n",
        "    while fast != 1 and slow != fast:\n",
        "        slow = calculate_next_number(slow)\n",
        "        fast = calculate_next_number(calculate_next_number(fast))\n",
        "\n",
        "    return fast == 1\n",
        "\n",
        "number = 19\n",
        "if is_happy_number(number):\n",
        "    print(number, \"is a Happy Number\")\n",
        "else:\n",
        "    print(number, \"is not a Happy Number\")"
      ],
      "metadata": {
        "colab": {
          "base_uri": "https://localhost:8080/"
        },
        "id": "V6FOutspi2JL",
        "outputId": "e765e83f-b504-447b-9184-f6bcfa0e2043"
      },
      "execution_count": 3,
      "outputs": [
        {
          "output_type": "stream",
          "name": "stdout",
          "text": [
            "19 is a Happy Number\n"
          ]
        }
      ]
    },
    {
      "cell_type": "markdown",
      "source": [
        "Q4. Write a Python program to print all happy numbers between 1 and 100"
      ],
      "metadata": {
        "id": "FsWTMrYmjFRi"
      }
    },
    {
      "cell_type": "code",
      "source": [
        "def calculate_next_number(num):\n",
        "        next_num = 0\n",
        "        while num > 0:\n",
        "            digit = num % 10\n",
        "            next_num += digit ** 2\n",
        "            num //= 10\n",
        "        return next_num\n",
        "\n",
        "def find_happy_numbers(start, end):\n",
        "\n",
        "    happy_numbers = []\n",
        "\n",
        "    for num in range(start, end + 1):\n",
        "        slow = num\n",
        "        fast = calculate_next_number(num)\n",
        "\n",
        "        while fast != 1 and slow != fast:\n",
        "            slow = calculate_next_number(slow)\n",
        "            fast = calculate_next_number(calculate_next_number(fast))\n",
        "\n",
        "        if fast == 1:\n",
        "            happy_numbers.append(num)\n",
        "\n",
        "    return happy_numbers\n",
        "\n",
        "start = 1\n",
        "end = 100\n",
        "happy_nums = find_happy_numbers(start, end)\n",
        "print(\"Happy numbers between\", start, \"and\", end, \"are:\", happy_nums)"
      ],
      "metadata": {
        "colab": {
          "base_uri": "https://localhost:8080/"
        },
        "id": "iZmoxxo7jAPy",
        "outputId": "bda1badf-594c-477b-c429-46f2ebeb7b39"
      },
      "execution_count": 5,
      "outputs": [
        {
          "output_type": "stream",
          "name": "stdout",
          "text": [
            "Happy numbers between 1 and 100 are: [1, 7, 10, 13, 19, 23, 28, 31, 32, 44, 49, 68, 70, 79, 82, 86, 91, 94, 97, 100]\n"
          ]
        }
      ]
    },
    {
      "cell_type": "markdown",
      "source": [
        "Q5. Write a Python program to determine whether the given number is a Harshad Number"
      ],
      "metadata": {
        "id": "G6S2pDvLjlTb"
      }
    },
    {
      "cell_type": "code",
      "source": [
        "def is_harshad_number(num):\n",
        "    digits_sum = sum(int(digit) for digit in str(num))\n",
        "    return num % digits_sum == 0\n",
        "\n",
        "number = 18\n",
        "if is_harshad_number(number):\n",
        "    print(number, \"is a Harshad Number\")\n",
        "else:\n",
        "    print(number, \"is not a Harshad Number\")"
      ],
      "metadata": {
        "colab": {
          "base_uri": "https://localhost:8080/"
        },
        "id": "y37TCEJkjJEb",
        "outputId": "2c842095-69cd-4637-ae01-13e104b31aec"
      },
      "execution_count": 6,
      "outputs": [
        {
          "output_type": "stream",
          "name": "stdout",
          "text": [
            "18 is a Harshad Number\n"
          ]
        }
      ]
    },
    {
      "cell_type": "markdown",
      "source": [
        "Q6. Write a Python program to print all pronic numbers between 1 and 100"
      ],
      "metadata": {
        "id": "0fz7hSr7jy6L"
      }
    },
    {
      "cell_type": "code",
      "source": [
        "def find_pronic_numbers(start, end):\n",
        "    pronic_numbers = []\n",
        "\n",
        "    for num in range(start, end + 1):\n",
        "        if num == (int(num ** 0.5) * (int(num ** 0.5) + 1)):\n",
        "            pronic_numbers.append(num)\n",
        "\n",
        "    return pronic_numbers\n",
        "\n",
        "start = 1\n",
        "end = 100\n",
        "pronic_nums = find_pronic_numbers(start, end)\n",
        "print(\"Pronic numbers between\", start, \"and\", end, \"are:\", pronic_nums)"
      ],
      "metadata": {
        "colab": {
          "base_uri": "https://localhost:8080/"
        },
        "id": "6Y1uI_8vjukT",
        "outputId": "56731e48-fae9-4673-c536-94a78875e8dc"
      },
      "execution_count": 7,
      "outputs": [
        {
          "output_type": "stream",
          "name": "stdout",
          "text": [
            "Pronic numbers between 1 and 100 are: [2, 6, 12, 20, 30, 42, 56, 72, 90]\n"
          ]
        }
      ]
    }
  ]
}