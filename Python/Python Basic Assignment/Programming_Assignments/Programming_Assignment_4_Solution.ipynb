{
  "nbformat": 4,
  "nbformat_minor": 0,
  "metadata": {
    "colab": {
      "provenance": [],
      "authorship_tag": "ABX9TyNzwhJ4wNFx+BoQskVTCvY6",
      "include_colab_link": true
    },
    "kernelspec": {
      "name": "python3",
      "display_name": "Python 3"
    },
    "language_info": {
      "name": "python"
    }
  },
  "cells": [
    {
      "cell_type": "markdown",
      "metadata": {
        "id": "view-in-github",
        "colab_type": "text"
      },
      "source": [
        "<a href=\"https://colab.research.google.com/github/aarpitdubey/ineuron/blob/main/Python/Python%20Basic%20Assignment/Programming_Assignments/Programming_Assignment_4_Solution.ipynb\" target=\"_parent\"><img src=\"https://colab.research.google.com/assets/colab-badge.svg\" alt=\"Open In Colab\"/></a>"
      ]
    },
    {
      "cell_type": "markdown",
      "source": [
        "Q1. Write a Python Program to Find the Factorial of a Number"
      ],
      "metadata": {
        "id": "RTdjO18sYsbX"
      }
    },
    {
      "cell_type": "code",
      "execution_count": null,
      "metadata": {
        "colab": {
          "base_uri": "https://localhost:8080/"
        },
        "id": "e02JUvRhYoH_",
        "outputId": "01635c67-078d-436c-f14c-5820444677ed"
      },
      "outputs": [
        {
          "output_type": "stream",
          "name": "stdout",
          "text": [
            "Enter a number: 0\n",
            "Factorial of 0 is 1.\n"
          ]
        }
      ],
      "source": [
        "num = int(input(\"Enter a number: \"))\n",
        "\n",
        "factorial = 1\n",
        "\n",
        "if num < 0:\n",
        "    print(\"Factorial does not exist for negative numbers.\")\n",
        "elif num == 0:\n",
        "    print(\"Factorial of 0 is 1.\")\n",
        "else:\n",
        "    for i in range(1, num + 1):\n",
        "        factorial *= i\n",
        "    print(\"Factorial of\", num, \"is\", factorial)"
      ]
    },
    {
      "cell_type": "markdown",
      "source": [
        "Q2. Write a Python Program to Display the multiplication Table"
      ],
      "metadata": {
        "id": "ovvgOATuY2id"
      }
    },
    {
      "cell_type": "code",
      "source": [
        "num = int(input(\"Enter a number: \"))\n",
        "\n",
        "for i in range(1, 11):\n",
        "    print(num, \"x\", i, \"=\", num * i)"
      ],
      "metadata": {
        "colab": {
          "base_uri": "https://localhost:8080/"
        },
        "id": "55ZvEfm6Ywzf",
        "outputId": "456c9d6f-4a35-4e59-9169-06e85702da9c"
      },
      "execution_count": null,
      "outputs": [
        {
          "output_type": "stream",
          "name": "stdout",
          "text": [
            "Enter a number: 20\n",
            "20 x 1 = 20\n",
            "20 x 2 = 40\n",
            "20 x 3 = 60\n",
            "20 x 4 = 80\n",
            "20 x 5 = 100\n",
            "20 x 6 = 120\n",
            "20 x 7 = 140\n",
            "20 x 8 = 160\n",
            "20 x 9 = 180\n",
            "20 x 10 = 200\n"
          ]
        }
      ]
    },
    {
      "cell_type": "markdown",
      "source": [
        "Q3. Write a Python Program to Print the Fibonacci sequence"
      ],
      "metadata": {
        "id": "DBsjJ-NSZAQ-"
      }
    },
    {
      "cell_type": "code",
      "source": [
        "num = int(input(\"Enter the number of terms: \"))\n",
        "\n",
        "# First two terms\n",
        "a, b = 0, 1\n",
        "fib_seq = [a, b]\n",
        "\n",
        "for i in range(2, num):\n",
        "    next_term = a + b\n",
        "    fib_seq.append(next_term)\n",
        "    a, b = b, next_term\n",
        "\n",
        "print(\"Fibonacci Sequence:\")\n",
        "for term in fib_seq:\n",
        "    print(term, end=\" \")"
      ],
      "metadata": {
        "colab": {
          "base_uri": "https://localhost:8080/"
        },
        "id": "c0dTHLzCY_12",
        "outputId": "b4750aad-732f-426b-ca54-36c16f367d0c"
      },
      "execution_count": null,
      "outputs": [
        {
          "output_type": "stream",
          "name": "stdout",
          "text": [
            "Enter the number of terms: 8\n",
            "Fibonacci Sequence:\n",
            "0 1 1 2 3 5 8 13 "
          ]
        }
      ]
    },
    {
      "cell_type": "markdown",
      "source": [
        "Q4. Write a Python Program to Check Armstrong Number"
      ],
      "metadata": {
        "id": "GOv0g6rEZJ7l"
      }
    },
    {
      "cell_type": "code",
      "source": [
        "num = int(input(\"Enter a number: \"))\n",
        "\n",
        "temp = num\n",
        "order = len(str(num))\n",
        "sum = 0\n",
        "\n",
        "while temp > 0:\n",
        "    digit = temp % 10\n",
        "    sum += digit ** order\n",
        "    temp //= 10\n",
        "\n",
        "if num == sum:\n",
        "    print(num, \"is an Armstrong number.\")\n",
        "else:\n",
        "    print(num, \"is not an Armstrong number.\")"
      ],
      "metadata": {
        "colab": {
          "base_uri": "https://localhost:8080/"
        },
        "id": "9pQti4YRY5b-",
        "outputId": "311b092d-4e78-47cc-cd2f-e60514a1ffb2"
      },
      "execution_count": null,
      "outputs": [
        {
          "output_type": "stream",
          "name": "stdout",
          "text": [
            "Enter a number: 371\n",
            "371 is an Armstrong number.\n"
          ]
        }
      ]
    },
    {
      "cell_type": "markdown",
      "source": [
        "Q5. Write a Python Program to Find Armstrong Number in an Interval"
      ],
      "metadata": {
        "id": "A-124CIeZWn1"
      }
    },
    {
      "cell_type": "code",
      "source": [
        "lower = int(input(\"Enter the lower limit: \"))\n",
        "upper = int(input(\"Enter the upper limit: \"))\n",
        "\n",
        "print(\"Armstrong numbers between\", lower, \"and\", upper, \"are:\")\n",
        "\n",
        "for num in range(lower, upper + 1):\n",
        "    order = len(str(num))\n",
        "    temp = num\n",
        "    sum = 0\n",
        "\n",
        "    while temp > 0:\n",
        "        digit = temp % 10\n",
        "        sum += digit ** order\n",
        "        temp //= 10\n",
        "\n",
        "    if num == sum:\n",
        "        print(num)"
      ],
      "metadata": {
        "colab": {
          "base_uri": "https://localhost:8080/"
        },
        "id": "Lz27Bl5FZNBw",
        "outputId": "cacd6264-9706-4098-e6a2-48cf54d7d95b"
      },
      "execution_count": null,
      "outputs": [
        {
          "output_type": "stream",
          "name": "stdout",
          "text": [
            "Enter the lower limit: 10\n",
            "Enter the upper limit: 800\n",
            "Armstrong numbers between 10 and 800 are:\n",
            "153\n",
            "370\n",
            "371\n",
            "407\n"
          ]
        }
      ]
    },
    {
      "cell_type": "markdown",
      "source": [
        "Q6. Write a Python Program to Find the Sum of Natural Numbers"
      ],
      "metadata": {
        "id": "MgS5ZCnoZq1O"
      }
    },
    {
      "cell_type": "code",
      "source": [
        "num = int(input(\"Enter a number: \"))\n",
        "\n",
        "sum = 0\n",
        "\n",
        "if num < 0:\n",
        "    print(\"Enter a positive number.\")\n",
        "else:\n",
        "    for i in range(1, num + 1):\n",
        "        sum += i\n",
        "\n",
        "print(\"Sum of natural numbers up to\", num, \"is\", sum)\n"
      ],
      "metadata": {
        "colab": {
          "base_uri": "https://localhost:8080/"
        },
        "id": "DOlhmi-tZbE9",
        "outputId": "79ce4ba6-039b-4f2c-d81c-6a8c552841cf"
      },
      "execution_count": null,
      "outputs": [
        {
          "output_type": "stream",
          "name": "stdout",
          "text": [
            "Enter a number: 15\n",
            "Sum of natural numbers up to 15 is 120\n"
          ]
        }
      ]
    }
  ]
}