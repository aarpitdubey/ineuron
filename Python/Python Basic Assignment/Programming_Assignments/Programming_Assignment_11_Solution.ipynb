{
  "nbformat": 4,
  "nbformat_minor": 0,
  "metadata": {
    "colab": {
      "provenance": [],
      "authorship_tag": "ABX9TyPFoj/pni9ICB35ZHYbVNPh",
      "include_colab_link": true
    },
    "kernelspec": {
      "name": "python3",
      "display_name": "Python 3"
    },
    "language_info": {
      "name": "python"
    }
  },
  "cells": [
    {
      "cell_type": "markdown",
      "metadata": {
        "id": "view-in-github",
        "colab_type": "text"
      },
      "source": [
        "<a href=\"https://colab.research.google.com/github/aarpitdubey/ineuron/blob/main/Python/Python%20Basic%20Assignment/Programming_Assignments/Programming_Assignment_11_Solution.ipynb\" target=\"_parent\"><img src=\"https://colab.research.google.com/assets/colab-badge.svg\" alt=\"Open In Colab\"/></a>"
      ]
    },
    {
      "cell_type": "markdown",
      "source": [
        "Q1. Write a Python program to find words which are greater than a given length k"
      ],
      "metadata": {
        "id": "Wt8YiSEdLtBw"
      }
    },
    {
      "cell_type": "code",
      "execution_count": 1,
      "metadata": {
        "id": "s2ue4NpbLmIB",
        "colab": {
          "base_uri": "https://localhost:8080/"
        },
        "outputId": "d6262012-1bfc-47eb-9243-a0352b19d8b5"
      },
      "outputs": [
        {
          "output_type": "stream",
          "name": "stdout",
          "text": [
            "Words greater than length 4 in the sentence: ['Hello,', 'doing', 'today?']\n"
          ]
        }
      ],
      "source": [
        "def find_words_greater_than_length(string, k):\n",
        "    words = string.split()\n",
        "    result = [word for word in words if len(word) > k]\n",
        "    return result\n",
        "\n",
        "sentence = \"Hello, how are you doing today?\"\n",
        "length = 4\n",
        "print(\"Words greater than length\", length, \"in the sentence:\", find_words_greater_than_length(sentence, length))"
      ]
    },
    {
      "cell_type": "markdown",
      "source": [
        "Q2. Write a Python program for removing the i<sup>th</sup> character from a string"
      ],
      "metadata": {
        "id": "5RXZqYtAlbgt"
      }
    },
    {
      "cell_type": "code",
      "source": [
        "def remove_ith_character(string, i):\n",
        "    result = string[:i] + string[i+1:]\n",
        "    return result\n",
        "\n",
        "my_string = \"Hello\"\n",
        "index = 2\n",
        "print(\"String after removing the\", index, \"th character:\", remove_ith_character(my_string, index))"
      ],
      "metadata": {
        "colab": {
          "base_uri": "https://localhost:8080/"
        },
        "id": "FFUTc2STkb-H",
        "outputId": "53e2f227-1dd2-4b64-dcb9-77365aec159c"
      },
      "execution_count": 2,
      "outputs": [
        {
          "output_type": "stream",
          "name": "stdout",
          "text": [
            "String after removing the 2 th character: Helo\n"
          ]
        }
      ]
    },
    {
      "cell_type": "markdown",
      "source": [
        "Q3. Write a Python program to split and join a string"
      ],
      "metadata": {
        "id": "Ro22nEuUmfYW"
      }
    },
    {
      "cell_type": "code",
      "source": [
        "def split_and_join_string(string):\n",
        "    words = string.split()\n",
        "    result = \"-\".join(words)\n",
        "    return result\n",
        "\n",
        "my_string = \"Hello, how are you?\"\n",
        "print(\"String after splitting and joining:\", split_and_join_string(my_string))"
      ],
      "metadata": {
        "colab": {
          "base_uri": "https://localhost:8080/"
        },
        "id": "zA7RVhqHmYm3",
        "outputId": "4aa97a8d-2534-489c-be5a-af2cc582a0b1"
      },
      "execution_count": 3,
      "outputs": [
        {
          "output_type": "stream",
          "name": "stdout",
          "text": [
            "String after splitting and joining: Hello,-how-are-you?\n"
          ]
        }
      ]
    },
    {
      "cell_type": "markdown",
      "source": [
        "Q4. Write a Python program to check if a given string is a binary string or not"
      ],
      "metadata": {
        "id": "h06sewfjmmYe"
      }
    },
    {
      "cell_type": "code",
      "source": [
        "def check_binary_string(string):\n",
        "    binary_chars = set('01')\n",
        "    result = all(char in binary_chars for char in string)\n",
        "    return result\n",
        "\n",
        "my_string = \"101010\"\n",
        "print(\"Is the string a binary string?\", check_binary_string(my_string))"
      ],
      "metadata": {
        "colab": {
          "base_uri": "https://localhost:8080/"
        },
        "id": "e9xFcg_Amjbu",
        "outputId": "b730f21b-15ca-4e7a-a85a-98a1b2c97b99"
      },
      "execution_count": 4,
      "outputs": [
        {
          "output_type": "stream",
          "name": "stdout",
          "text": [
            "Is the string a binary string? True\n"
          ]
        }
      ]
    },
    {
      "cell_type": "markdown",
      "source": [
        "Q5. Write a Python program to find uncommon words from two strings"
      ],
      "metadata": {
        "id": "zltinn69m3YF"
      }
    },
    {
      "cell_type": "code",
      "source": [
        "def find_uncommon_words(string1, string2):\n",
        "    words1 = set(string1.split())\n",
        "    words2 = set(string2.split())\n",
        "    uncommon_words = words1.symmetric_difference(words2)\n",
        "    return uncommon_words\n",
        "\n",
        "sentence1 = \"I like apples\"\n",
        "sentence2 = \"I like bananas\"\n",
        "print(\"Uncommon words between the two sentences:\", find_uncommon_words(sentence1, sentence2))"
      ],
      "metadata": {
        "colab": {
          "base_uri": "https://localhost:8080/"
        },
        "id": "OGd7GMaamz8e",
        "outputId": "20b5fae1-e9b1-49d5-d340-223e7078f64d"
      },
      "execution_count": 5,
      "outputs": [
        {
          "output_type": "stream",
          "name": "stdout",
          "text": [
            "Uncommon words between the two sentences: {'apples', 'bananas'}\n"
          ]
        }
      ]
    },
    {
      "cell_type": "markdown",
      "source": [
        "Q6. Write a Python program to find all duplicate characters in a string"
      ],
      "metadata": {
        "id": "QAv7koO0nD21"
      }
    },
    {
      "cell_type": "code",
      "source": [
        "def find_duplicate_characters(string):\n",
        "    duplicate_chars = set()\n",
        "    for char in string:\n",
        "        if string.count(char) > 1:\n",
        "            duplicate_chars.add(char)\n",
        "    return duplicate_chars\n",
        "\n",
        "my_string = \"Hello\"\n",
        "print(\"Duplicate characters in the string:\", find_duplicate_characters(my_string))"
      ],
      "metadata": {
        "colab": {
          "base_uri": "https://localhost:8080/"
        },
        "id": "x--OADhnm-vn",
        "outputId": "4454e8ed-551e-4d09-abcb-3380ab6bd7be"
      },
      "execution_count": 6,
      "outputs": [
        {
          "output_type": "stream",
          "name": "stdout",
          "text": [
            "Duplicate characters in the string: {'l'}\n"
          ]
        }
      ]
    },
    {
      "cell_type": "markdown",
      "source": [
        "Q7. Write a Python program to check if a string contains any special character"
      ],
      "metadata": {
        "id": "LugPacbanVyV"
      }
    },
    {
      "cell_type": "code",
      "source": [
        "import string\n",
        "\n",
        "def check_special_characters(string_):\n",
        "    special_chars = set(string.punctuation)\n",
        "    result = any(char in special_chars for char in string_)\n",
        "    return result\n",
        "\n",
        "my_string = \"Hello@\"\n",
        "print(\"Does the string contain any special character?\", check_special_characters(my_string))"
      ],
      "metadata": {
        "colab": {
          "base_uri": "https://localhost:8080/"
        },
        "id": "32D8r615nI5l",
        "outputId": "0f36b254-b0e0-445f-da83-dc55d9942c85"
      },
      "execution_count": 7,
      "outputs": [
        {
          "output_type": "stream",
          "name": "stdout",
          "text": [
            "Does the string contain any special character? True\n"
          ]
        }
      ]
    }
  ]
}