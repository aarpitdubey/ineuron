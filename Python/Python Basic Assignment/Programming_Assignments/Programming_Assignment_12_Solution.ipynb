{
  "nbformat": 4,
  "nbformat_minor": 0,
  "metadata": {
    "colab": {
      "provenance": [],
      "authorship_tag": "ABX9TyNSrQnZGUCbmmwtnmF2oW5Z",
      "include_colab_link": true
    },
    "kernelspec": {
      "name": "python3",
      "display_name": "Python 3"
    },
    "language_info": {
      "name": "python"
    }
  },
  "cells": [
    {
      "cell_type": "markdown",
      "metadata": {
        "id": "view-in-github",
        "colab_type": "text"
      },
      "source": [
        "<a href=\"https://colab.research.google.com/github/aarpitdubey/ineuron/blob/main/Python/Python%20Basic%20Assignment/Programming_Assignments/Programming_Assignment_12_Solution.ipynb\" target=\"_parent\"><img src=\"https://colab.research.google.com/assets/colab-badge.svg\" alt=\"Open In Colab\"/></a>"
      ]
    },
    {
      "cell_type": "markdown",
      "source": [
        "Q1. Write a Python program to extract unique values from dictionary values"
      ],
      "metadata": {
        "id": "GkiwZFCqsMv2"
      }
    },
    {
      "cell_type": "code",
      "execution_count": 1,
      "metadata": {
        "colab": {
          "base_uri": "https://localhost:8080/"
        },
        "id": "DZymZn4OsHbX",
        "outputId": "d15c6421-5f82-4cf8-91e1-3710840ea74c"
      },
      "outputs": [
        {
          "output_type": "stream",
          "name": "stdout",
          "text": [
            "Unique values from dictionary: {1, 2, 3, 4, 5}\n"
          ]
        }
      ],
      "source": [
        "def extract_unique_values(dictionary):\n",
        "    unique_values = set()\n",
        "    for values in dictionary.values():\n",
        "        if isinstance(values, list):\n",
        "            unique_values.update(values)\n",
        "        else:\n",
        "            unique_values.add(values)\n",
        "    return unique_values\n",
        "\n",
        "my_dict = {'a': [1, 2, 3], 'b': [2, 3, 4], 'c': 5}\n",
        "print(\"Unique values from dictionary:\", extract_unique_values(my_dict))"
      ]
    },
    {
      "cell_type": "markdown",
      "source": [
        "Q2. Write a Python program to find the sum of all items in a dictionary"
      ],
      "metadata": {
        "id": "pBxG34uCsYA2"
      }
    },
    {
      "cell_type": "code",
      "source": [
        "def sum_dictionary_items(dictionary):\n",
        "    total_sum = sum(dictionary.values())\n",
        "    return total_sum\n",
        "\n",
        "my_dict = {'a': 5, 'b': 10, 'c': 15}\n",
        "print(\"Sum of dictionary items:\", sum_dictionary_items(my_dict))"
      ],
      "metadata": {
        "colab": {
          "base_uri": "https://localhost:8080/"
        },
        "id": "FuO7PfO3sTjf",
        "outputId": "9da13736-a238-4e93-9f9a-158e43bbba7b"
      },
      "execution_count": 2,
      "outputs": [
        {
          "output_type": "stream",
          "name": "stdout",
          "text": [
            "Sum of dictionary items: 30\n"
          ]
        }
      ]
    },
    {
      "cell_type": "markdown",
      "source": [
        "Q3. Write a Python program to merge two dictionaries\n"
      ],
      "metadata": {
        "id": "uuW9uWevsidX"
      }
    },
    {
      "cell_type": "code",
      "source": [
        "def merge_dictionaries(dict1, dict2):\n",
        "    merged_dict = {**dict1, **dict2}\n",
        "    return merged_dict\n",
        "\n",
        "dict1 = {'a': 1, 'b': 2}\n",
        "dict2 = {'c': 3, 'd': 4}\n",
        "print(\"Merged dictionary:\", merge_dictionaries(dict1, dict2))"
      ],
      "metadata": {
        "colab": {
          "base_uri": "https://localhost:8080/"
        },
        "id": "oAwMq8ZSsbFG",
        "outputId": "1ee68fa3-d7af-4f9a-8406-0cebad21f5c1"
      },
      "execution_count": 3,
      "outputs": [
        {
          "output_type": "stream",
          "name": "stdout",
          "text": [
            "Merged dictionary: {'a': 1, 'b': 2, 'c': 3, 'd': 4}\n"
          ]
        }
      ]
    },
    {
      "cell_type": "markdown",
      "source": [
        "Q4. Write a Python program to convert key-values list to a flat dictionary"
      ],
      "metadata": {
        "id": "vpgHI1i6s1cg"
      }
    },
    {
      "cell_type": "code",
      "source": [
        "def convert_to_flat_dictionary(keys, values):\n",
        "    flat_dict = dict(zip(keys, values))\n",
        "    return flat_dict\n",
        "\n",
        "key_list = ['a', 'b', 'c']\n",
        "value_list = [1, 2, 3]\n",
        "print(\"Flat dictionary:\", convert_to_flat_dictionary(key_list, value_list))"
      ],
      "metadata": {
        "colab": {
          "base_uri": "https://localhost:8080/"
        },
        "id": "LmG24Cb_syNe",
        "outputId": "648c68a6-0314-4d14-b4ec-c0d154648c15"
      },
      "execution_count": 4,
      "outputs": [
        {
          "output_type": "stream",
          "name": "stdout",
          "text": [
            "Flat dictionary: {'a': 1, 'b': 2, 'c': 3}\n"
          ]
        }
      ]
    },
    {
      "cell_type": "markdown",
      "source": [
        "Q5. Write a Python program to insert at the beginning in OrderedDict"
      ],
      "metadata": {
        "id": "-l5ShJLKtAA2"
      }
    },
    {
      "cell_type": "code",
      "source": [
        "from collections import OrderedDict\n",
        "\n",
        "def insert_at_beginning(dictionary, key, value):\n",
        "    dictionary.update({key: value})\n",
        "    dictionary.move_to_end(key, last=False)\n",
        "\n",
        "# Create an empty OrderedDict\n",
        "my_dict = OrderedDict()\n",
        "\n",
        "# Insert key-value pairs\n",
        "my_dict['c'] = 3\n",
        "my_dict['d'] = 4\n",
        "\n",
        "print(\"\\nOrderedDict before insertion at the beginning:\", my_dict)\n",
        "\n",
        "# Insert at the beginning\n",
        "insert_at_beginning(my_dict, 'a', 1)\n",
        "insert_at_beginning(my_dict, 'b', 2)\n",
        "\n",
        "# Print the OrderedDict\n",
        "print(\"\\nOrderedDict after insertion at the beginning:\", my_dict)\n"
      ],
      "metadata": {
        "colab": {
          "base_uri": "https://localhost:8080/"
        },
        "id": "OaBDIdqus6ZO",
        "outputId": "75142ee0-4ee3-4d82-ef52-59c93a8e75f1"
      },
      "execution_count": 5,
      "outputs": [
        {
          "output_type": "stream",
          "name": "stdout",
          "text": [
            "\n",
            "OrderedDict before insertion at the beginning: OrderedDict([('c', 3), ('d', 4)])\n",
            "\n",
            "OrderedDict after insertion at the beginning: OrderedDict([('b', 2), ('a', 1), ('c', 3), ('d', 4)])\n"
          ]
        }
      ]
    },
    {
      "cell_type": "markdown",
      "source": [
        "Q6. Write a Python program to check the order of characters in a string using OrderedDict"
      ],
      "metadata": {
        "id": "RGv6qBrVhOPK"
      }
    },
    {
      "cell_type": "code",
      "source": [
        "from collections import OrderedDict\n",
        "\n",
        "def check_order_of_characters(string, pattern):\n",
        "    char_dict = OrderedDict.fromkeys(string)\n",
        "    pattern_length = 0\n",
        "    for char in char_dict:\n",
        "        if pattern_length == len(pattern):\n",
        "            break\n",
        "        if pattern[pattern_length] == char:\n",
        "            pattern_length += 1\n",
        "    return pattern_length == len(pattern)\n",
        "\n",
        "my_string = \"openai\"\n",
        "my_pattern = \"pn\"\n",
        "print(\"Does the string follow the order of characters in the pattern?\", check_order_of_characters(my_string, my_pattern))"
      ],
      "metadata": {
        "colab": {
          "base_uri": "https://localhost:8080/"
        },
        "id": "cKY9hbultDSm",
        "outputId": "24bf71cf-5d90-4de2-d777-3a78275aa544"
      },
      "execution_count": 6,
      "outputs": [
        {
          "output_type": "stream",
          "name": "stdout",
          "text": [
            "Does the string follow the order of characters in the pattern? True\n"
          ]
        }
      ]
    },
    {
      "cell_type": "markdown",
      "source": [
        "Q7. Write a Python program to sort Python dictionaries by key or value"
      ],
      "metadata": {
        "id": "fxMMpYc9hiW5"
      }
    },
    {
      "cell_type": "code",
      "source": [
        "def sort_dictionary(dictionary, by_key=True):\n",
        "    sorted_dict = {}\n",
        "    if by_key:\n",
        "        sorted_dict = dict(sorted(dictionary.items()))\n",
        "    else:\n",
        "        sorted_dict = dict(sorted(dictionary.items(), key=lambda x: x[1]))\n",
        "    return sorted_dict\n",
        "\n",
        "my_dict = {'c': 2, 'a': 3, 'b': 1}\n",
        "\n",
        "print(\"Dictionary sorted by key:\", sort_dictionary(my_dict, by_key=True))\n",
        "print(\"Dictionary sorted by value:\", sort_dictionary(my_dict, by_key=False))"
      ],
      "metadata": {
        "colab": {
          "base_uri": "https://localhost:8080/"
        },
        "id": "8fFjTC1ahYMZ",
        "outputId": "dd819fa5-9418-4c30-dcc9-5feda7dbf97c"
      },
      "execution_count": 7,
      "outputs": [
        {
          "output_type": "stream",
          "name": "stdout",
          "text": [
            "Dictionary sorted by key: {'a': 3, 'b': 1, 'c': 2}\n",
            "Dictionary sorted by value: {'b': 1, 'c': 2, 'a': 3}\n"
          ]
        }
      ]
    }
  ]
}