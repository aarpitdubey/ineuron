{
  "nbformat": 4,
  "nbformat_minor": 0,
  "metadata": {
    "colab": {
      "provenance": [],
      "authorship_tag": "ABX9TyML1mAGUscMPikRo5ixGZ8N",
      "include_colab_link": true
    },
    "kernelspec": {
      "name": "python3",
      "display_name": "Python 3"
    },
    "language_info": {
      "name": "python"
    }
  },
  "cells": [
    {
      "cell_type": "markdown",
      "metadata": {
        "id": "view-in-github",
        "colab_type": "text"
      },
      "source": [
        "<a href=\"https://colab.research.google.com/github/aarpitdubey/ineuron/blob/main/Python/Python%20Basic%20Assignment/Programming_Assignments/Programming_Assignment_8_Solution.ipynb\" target=\"_parent\"><img src=\"https://colab.research.google.com/assets/colab-badge.svg\" alt=\"Open In Colab\"/></a>"
      ]
    },
    {
      "cell_type": "markdown",
      "source": [
        "Q1. Write a Python Program to Add Two Matrices"
      ],
      "metadata": {
        "id": "EEZSvY12hOj8"
      }
    },
    {
      "cell_type": "code",
      "source": [
        "def add_matrices(matrix1, matrix2):\n",
        "    result = []\n",
        "    for i in range(len(matrix1)):\n",
        "        row = []\n",
        "        for j in range(len(matrix1[i])):\n",
        "            row.append(matrix1[i][j] + matrix2[i][j])\n",
        "        result.append(row)\n",
        "    return result\n",
        "\n",
        "matrix1 = [[1, 2, 3], [4, 5, 6], [7, 8, 9]]\n",
        "matrix2 = [[9, 8, 7], [6, 5, 4], [3, 2, 1]]\n",
        "sum_matrix = add_matrices(matrix1, matrix2)\n",
        "print(\"Sum of two matrices:\")\n",
        "for row in sum_matrix:\n",
        "    print(row)"
      ],
      "metadata": {
        "colab": {
          "base_uri": "https://localhost:8080/"
        },
        "id": "idcZjsxchRck",
        "outputId": "b881ba83-a6cd-4153-81a7-8f86a4021e4b"
      },
      "execution_count": 1,
      "outputs": [
        {
          "output_type": "stream",
          "name": "stdout",
          "text": [
            "Sum of two matrices:\n",
            "[10, 10, 10]\n",
            "[10, 10, 10]\n",
            "[10, 10, 10]\n"
          ]
        }
      ]
    },
    {
      "cell_type": "markdown",
      "source": [
        "Q2. Write a Python Program to Multiply Two Matrices"
      ],
      "metadata": {
        "id": "kwQ61hvLhi78"
      }
    },
    {
      "cell_type": "code",
      "execution_count": 2,
      "metadata": {
        "colab": {
          "base_uri": "https://localhost:8080/"
        },
        "id": "sPbE6ovvhL1N",
        "outputId": "393313ff-0acf-4b50-cd22-c9fb1535dd8b"
      },
      "outputs": [
        {
          "output_type": "stream",
          "name": "stdout",
          "text": [
            "Product of two matrices:\n",
            "[30, 24, 18]\n",
            "[84, 69, 54]\n",
            "[138, 114, 90]\n"
          ]
        }
      ],
      "source": [
        "def multiply_matrices(matrix1, matrix2):\n",
        "    result = []\n",
        "    for i in range(len(matrix1)):\n",
        "        row = []\n",
        "        for j in range(len(matrix2[0])):\n",
        "            element = 0\n",
        "            for k in range(len(matrix2)):\n",
        "                element += matrix1[i][k] * matrix2[k][j]\n",
        "            row.append(element)\n",
        "        result.append(row)\n",
        "    return result\n",
        "\n",
        "matrix1 = [[1, 2, 3], [4, 5, 6], [7, 8, 9]]\n",
        "matrix2 = [[9, 8, 7], [6, 5, 4], [3, 2, 1]]\n",
        "product_matrix = multiply_matrices(matrix1, matrix2)\n",
        "print(\"Product of two matrices:\")\n",
        "for row in product_matrix:\n",
        "    print(row)\n"
      ]
    },
    {
      "cell_type": "markdown",
      "source": [
        "\n",
        "Q3. Write a Python Program to Transpose a Matrix\n",
        "\n"
      ],
      "metadata": {
        "id": "WiZg0pDzhox0"
      }
    },
    {
      "cell_type": "code",
      "source": [
        "def transpose_matrix(matrix):\n",
        "    transposed = [[matrix[j][i] for j in range(len(matrix))] for i in range(len(matrix[0]))]\n",
        "    return transposed\n",
        "\n",
        "matrix = [[1, 2, 3], [4, 5, 6], [7, 8, 9]]\n",
        "transposed_matrix = transpose_matrix(matrix)\n",
        "print(\"Transposed matrix:\")\n",
        "for row in transposed_matrix:\n",
        "    print(row)"
      ],
      "metadata": {
        "colab": {
          "base_uri": "https://localhost:8080/"
        },
        "id": "q7Ez5hLPhpN7",
        "outputId": "2e2ea8dc-ba37-4c36-d688-7c3d8cffddea"
      },
      "execution_count": 3,
      "outputs": [
        {
          "output_type": "stream",
          "name": "stdout",
          "text": [
            "Transposed matrix:\n",
            "[1, 4, 7]\n",
            "[2, 5, 8]\n",
            "[3, 6, 9]\n"
          ]
        }
      ]
    },
    {
      "cell_type": "markdown",
      "source": [
        "Q4. Write a Python Program to Sort Words in Alphabetic Order"
      ],
      "metadata": {
        "id": "f_tg-O_ah4dT"
      }
    },
    {
      "cell_type": "code",
      "source": [
        "def sort_words(words):\n",
        "    sorted_words = sorted(words)\n",
        "    return sorted_words\n",
        "\n",
        "sentence = \"Python programming is fun\"\n",
        "words = sentence.split()\n",
        "sorted_words = sort_words(words)\n",
        "print(\"Sorted words in alphabetic order:\", sorted_words)"
      ],
      "metadata": {
        "colab": {
          "base_uri": "https://localhost:8080/"
        },
        "id": "ivJrwuzDhxoL",
        "outputId": "82fbc2d5-fe63-415c-fe53-7352905dccd3"
      },
      "execution_count": 4,
      "outputs": [
        {
          "output_type": "stream",
          "name": "stdout",
          "text": [
            "Sorted words in alphabetic order: ['Python', 'fun', 'is', 'programming']\n"
          ]
        }
      ]
    },
    {
      "cell_type": "markdown",
      "source": [
        "Q5. Write a Python Program to Remove Punctuation From a String"
      ],
      "metadata": {
        "id": "3BdxQtn6iC77"
      }
    },
    {
      "cell_type": "code",
      "source": [
        "import string\n",
        "\n",
        "def remove_punctuation(text):\n",
        "    no_punct = text.translate(str.maketrans(\"\", \"\", string.punctuation))\n",
        "    return no_punct\n",
        "\n",
        "sentence = \"Hello, World!\"\n",
        "no_punct_sentence = remove_punctuation(sentence)\n",
        "print(\"String without punctuation:\", no_punct_sentence)"
      ],
      "metadata": {
        "colab": {
          "base_uri": "https://localhost:8080/"
        },
        "id": "BHdTrDrCh747",
        "outputId": "f2a3667e-e7fd-43b8-b965-59a76d8ddfd2"
      },
      "execution_count": 5,
      "outputs": [
        {
          "output_type": "stream",
          "name": "stdout",
          "text": [
            "String without punctuation: Hello World\n"
          ]
        }
      ]
    }
  ]
}