{
  "nbformat": 4,
  "nbformat_minor": 0,
  "metadata": {
    "colab": {
      "provenance": [],
      "authorship_tag": "ABX9TyOdmr9jHjg0jx+QOAEN2oVK",
      "include_colab_link": true
    },
    "kernelspec": {
      "name": "python3",
      "display_name": "Python 3"
    },
    "language_info": {
      "name": "python"
    }
  },
  "cells": [
    {
      "cell_type": "markdown",
      "metadata": {
        "id": "view-in-github",
        "colab_type": "text"
      },
      "source": [
        "<a href=\"https://colab.research.google.com/github/aarpitdubey/ineuron/blob/main/Python/Python%20Basic%20Assignment/Programming_Assignments/Programming_Assignment_1_Solution.ipynb\" target=\"_parent\"><img src=\"https://colab.research.google.com/assets/colab-badge.svg\" alt=\"Open In Colab\"/></a>"
      ]
    },
    {
      "cell_type": "markdown",
      "source": [
        "Q1. Write a Python program to print \"Hello Python\""
      ],
      "metadata": {
        "id": "otoa3KukRKJS"
      }
    },
    {
      "cell_type": "code",
      "source": [
        "print(\"Hello Python\")"
      ],
      "metadata": {
        "colab": {
          "base_uri": "https://localhost:8080/"
        },
        "id": "-BHPYIASRbC5",
        "outputId": "132e767d-da7c-4303-a9cf-97d459b3287c"
      },
      "execution_count": 1,
      "outputs": [
        {
          "output_type": "stream",
          "name": "stdout",
          "text": [
            "Hello Python\n"
          ]
        }
      ]
    },
    {
      "cell_type": "markdown",
      "source": [
        "Q2. Write a Python program to do arithmetical operations addition and division"
      ],
      "metadata": {
        "id": "8LJ3SuyWRU3a"
      }
    },
    {
      "cell_type": "code",
      "source": [
        "# Addition\n",
        "num1 = 10\n",
        "num2 = 5\n",
        "sum_result = num1 + num2\n",
        "print(\"Sum:\", sum_result)\n",
        "\n",
        "# Division\n",
        "num3 = 20\n",
        "num4 = 4\n",
        "div_result = num3 / num4\n",
        "print(\"Division:\", div_result)\n"
      ],
      "metadata": {
        "colab": {
          "base_uri": "https://localhost:8080/"
        },
        "id": "GK3afAKJRhpY",
        "outputId": "adfa164a-da0c-4aeb-ab95-c0f46b6e4ce9"
      },
      "execution_count": 2,
      "outputs": [
        {
          "output_type": "stream",
          "name": "stdout",
          "text": [
            "Sum: 15\n",
            "Division: 5.0\n"
          ]
        }
      ]
    },
    {
      "cell_type": "markdown",
      "source": [
        "Q3. Write a Python program to find the area of a triangle"
      ],
      "metadata": {
        "id": "JEzvWWUORlMp"
      }
    },
    {
      "cell_type": "code",
      "source": [
        "base = 10\n",
        "height = 5\n",
        "area = 0.5 * base * height\n",
        "print(\"Area of the triangle:\", area)"
      ],
      "metadata": {
        "colab": {
          "base_uri": "https://localhost:8080/"
        },
        "id": "9ygpkFUuRj2h",
        "outputId": "29dc43c5-f9b6-41ac-da8d-bcc02cd73ebb"
      },
      "execution_count": 3,
      "outputs": [
        {
          "output_type": "stream",
          "name": "stdout",
          "text": [
            "Area of the triangle: 25.0\n"
          ]
        }
      ]
    },
    {
      "cell_type": "markdown",
      "source": [
        "Q4. Write a Python program to swap two variables"
      ],
      "metadata": {
        "id": "IboGSEvIRvkI"
      }
    },
    {
      "cell_type": "code",
      "source": [
        "a = 5\n",
        "b = 10\n",
        "print(\"Before swapping: a =\", a, \"b =\", b)\n",
        "\n",
        "# Swapping using a temporary variable\n",
        "temp = a\n",
        "a = b\n",
        "b = temp\n",
        "\n",
        "print(\"After swapping: a =\", a, \"b =\", b)"
      ],
      "metadata": {
        "colab": {
          "base_uri": "https://localhost:8080/"
        },
        "id": "XDAjJkJJRr_A",
        "outputId": "ef3aac44-cdfb-4de5-dd26-686834e60fae"
      },
      "execution_count": 4,
      "outputs": [
        {
          "output_type": "stream",
          "name": "stdout",
          "text": [
            "Before swapping: a = 5 b = 10\n",
            "After swapping: a = 10 b = 5\n"
          ]
        }
      ]
    },
    {
      "cell_type": "markdown",
      "source": [
        "Q5. Write a Python program to generate a random number"
      ],
      "metadata": {
        "id": "VPFv424VR2to"
      }
    },
    {
      "cell_type": "code",
      "source": [
        "import random\n",
        "\n",
        "random_num = random.randint(1, 100)\n",
        "print(\"Random number:\", random_num)"
      ],
      "metadata": {
        "id": "qrGsluPOR0lp",
        "outputId": "e92f2f87-c5f1-416b-e4c1-a8fc70689bd0",
        "colab": {
          "base_uri": "https://localhost:8080/"
        }
      },
      "execution_count": 5,
      "outputs": [
        {
          "output_type": "stream",
          "name": "stdout",
          "text": [
            "Random number: 81\n"
          ]
        }
      ]
    }
  ]
}