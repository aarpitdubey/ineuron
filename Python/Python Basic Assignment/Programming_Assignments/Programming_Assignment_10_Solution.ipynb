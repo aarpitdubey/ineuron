{
  "nbformat": 4,
  "nbformat_minor": 0,
  "metadata": {
    "colab": {
      "provenance": [],
      "authorship_tag": "ABX9TyMcnZgUanYORoXoT6Dc50AQ",
      "include_colab_link": true
    },
    "kernelspec": {
      "name": "python3",
      "display_name": "Python 3"
    },
    "language_info": {
      "name": "python"
    }
  },
  "cells": [
    {
      "cell_type": "markdown",
      "metadata": {
        "id": "view-in-github",
        "colab_type": "text"
      },
      "source": [
        "<a href=\"https://colab.research.google.com/github/aarpitdubey/ineuron/blob/main/Python/Python%20Basic%20Assignment/Programming_Assignments/Programming_Assignment_10_Solution.ipynb\" target=\"_parent\"><img src=\"https://colab.research.google.com/assets/colab-badge.svg\" alt=\"Open In Colab\"/></a>"
      ]
    },
    {
      "cell_type": "markdown",
      "source": [
        "Q1. Write a Python program to find the sum of elements in a list"
      ],
      "metadata": {
        "id": "peNB6uhR8shp"
      }
    },
    {
      "cell_type": "code",
      "execution_count": 1,
      "metadata": {
        "colab": {
          "base_uri": "https://localhost:8080/"
        },
        "id": "urTX-iqw6h_I",
        "outputId": "e61d9eb3-e93a-4219-d919-42370a71fa1b"
      },
      "outputs": [
        {
          "output_type": "stream",
          "name": "stdout",
          "text": [
            "Sum of elements in the list: 15\n"
          ]
        }
      ],
      "source": [
        "def sum_of_elements(lst):\n",
        "    total_sum = sum(lst)\n",
        "    return total_sum\n",
        "\n",
        "my_list = [1, 2, 3, 4, 5]\n",
        "print(\"Sum of elements in the list:\", sum_of_elements(my_list))"
      ]
    },
    {
      "cell_type": "markdown",
      "source": [
        "Q2. Write a Python program to multiply all numbers in a list"
      ],
      "metadata": {
        "id": "0ucX6X0c82AI"
      }
    },
    {
      "cell_type": "code",
      "source": [
        "def multiply_list(lst):\n",
        "    result = 1\n",
        "    for num in lst:\n",
        "        result *= num\n",
        "    return result\n",
        "\n",
        "my_list = [2, 3, 4, 5]\n",
        "print(\"Multiplication of numbers in the list:\", multiply_list(my_list))"
      ],
      "metadata": {
        "colab": {
          "base_uri": "https://localhost:8080/"
        },
        "id": "UiIdu7gF8xWh",
        "outputId": "4bbaaf12-887d-4d79-9a41-dc7a3b7d09d2"
      },
      "execution_count": 2,
      "outputs": [
        {
          "output_type": "stream",
          "name": "stdout",
          "text": [
            "Multiplication of numbers in the list: 120\n"
          ]
        }
      ]
    },
    {
      "cell_type": "markdown",
      "source": [
        "Q3. Write a Python program to find the smallest number in a list"
      ],
      "metadata": {
        "id": "5OPfqXj488l4"
      }
    },
    {
      "cell_type": "code",
      "source": [
        "def find_smallest_number(lst):\n",
        "    smallest = min(lst)\n",
        "    return smallest\n",
        "\n",
        "my_list = [5, 3, 8, 2, 1]\n",
        "print(\"Smallest number in the list:\", find_smallest_number(my_list))"
      ],
      "metadata": {
        "colab": {
          "base_uri": "https://localhost:8080/"
        },
        "id": "diJJ7EW885b4",
        "outputId": "e852a989-c94e-4ba4-d214-b093db4e5729"
      },
      "execution_count": 3,
      "outputs": [
        {
          "output_type": "stream",
          "name": "stdout",
          "text": [
            "Smallest number in the list: 1\n"
          ]
        }
      ]
    },
    {
      "cell_type": "markdown",
      "source": [
        "Q4. Write a Python program to find the largest number in a list"
      ],
      "metadata": {
        "id": "3kj0thSE9DVJ"
      }
    },
    {
      "cell_type": "code",
      "source": [
        "def find_largest_number(lst):\n",
        "    largest = max(lst)\n",
        "    return largest\n",
        "\n",
        "my_list = [5, 3, 8, 2, 1]\n",
        "print(\"Largest number in the list:\", find_largest_number(my_list))"
      ],
      "metadata": {
        "colab": {
          "base_uri": "https://localhost:8080/"
        },
        "id": "10Z9tYxz8__5",
        "outputId": "da71302d-8ee7-45f5-a954-c613c6631393"
      },
      "execution_count": 4,
      "outputs": [
        {
          "output_type": "stream",
          "name": "stdout",
          "text": [
            "Largest number in the list: 8\n"
          ]
        }
      ]
    },
    {
      "cell_type": "markdown",
      "source": [
        "Q5. Write a Python program to find the second largest number in a list"
      ],
      "metadata": {
        "id": "POA48C0T9Opg"
      }
    },
    {
      "cell_type": "code",
      "source": [
        "def find_second_largest_number(lst):\n",
        "    lst.sort()\n",
        "    second_largest = lst[-2]\n",
        "    return second_largest\n",
        "\n",
        "my_list = [5, 3, 8, 2, 1]\n",
        "print(\"Second largest number in the list:\", find_second_largest_number(my_list))"
      ],
      "metadata": {
        "colab": {
          "base_uri": "https://localhost:8080/"
        },
        "id": "am9xxM0V9JUJ",
        "outputId": "d069f811-9cba-48e1-d70b-8fa093f47a51"
      },
      "execution_count": 5,
      "outputs": [
        {
          "output_type": "stream",
          "name": "stdout",
          "text": [
            "Second largest number in the list: 5\n"
          ]
        }
      ]
    },
    {
      "cell_type": "markdown",
      "source": [
        "Q6. Write a Python program to find the N largest elements from a list"
      ],
      "metadata": {
        "id": "4Tr1z2JnHU7H"
      }
    },
    {
      "cell_type": "code",
      "source": [
        "def find_n_largest_elements(lst, n):\n",
        "    sorted_lst = sorted(lst, reverse=True)\n",
        "    n_largest_elements = sorted_lst[:n]\n",
        "    return n_largest_elements\n",
        "\n",
        "my_list = [5, 3, 8, 2, 1]\n",
        "N = 3\n",
        "print(\"N largest elements in the list:\", find_n_largest_elements(my_list, N))"
      ],
      "metadata": {
        "colab": {
          "base_uri": "https://localhost:8080/"
        },
        "id": "87dJy--B9Sby",
        "outputId": "06c637c3-494c-4794-c101-2ef5c6941df2"
      },
      "execution_count": 6,
      "outputs": [
        {
          "output_type": "stream",
          "name": "stdout",
          "text": [
            "N largest elements in the list: [8, 5, 3]\n"
          ]
        }
      ]
    },
    {
      "cell_type": "markdown",
      "source": [
        "Q7. Write a Python program to print even numbers in a list"
      ],
      "metadata": {
        "id": "7z2zod6xHdpx"
      }
    },
    {
      "cell_type": "code",
      "source": [
        "def print_even_numbers(lst):\n",
        "    even_numbers = [num for num in lst if num % 2 == 0]\n",
        "    return even_numbers\n",
        "\n",
        "my_list = [1, 2, 3, 4, 5]\n",
        "print(\"Even numbers in the list:\", print_even_numbers(my_list))"
      ],
      "metadata": {
        "colab": {
          "base_uri": "https://localhost:8080/"
        },
        "id": "sjOamgICHYea",
        "outputId": "a50ad24d-ae03-4963-8be9-55b1e6999d26"
      },
      "execution_count": 7,
      "outputs": [
        {
          "output_type": "stream",
          "name": "stdout",
          "text": [
            "Even numbers in the list: [2, 4]\n"
          ]
        }
      ]
    },
    {
      "cell_type": "markdown",
      "source": [
        "Q8. Write a Python program to print odd numbers in a list"
      ],
      "metadata": {
        "id": "RLSsRK7BHmJ3"
      }
    },
    {
      "cell_type": "code",
      "source": [
        "def print_odd_numbers(lst):\n",
        "    odd_numbers = [num for num in lst if num % 2 != 0]\n",
        "    return odd_numbers\n",
        "\n",
        "my_list = [1, 2, 3, 4, 5]\n",
        "print(\"Odd numbers in the list:\", print_odd_numbers(my_list))"
      ],
      "metadata": {
        "colab": {
          "base_uri": "https://localhost:8080/"
        },
        "id": "TivmE3JaHkuw",
        "outputId": "9e970571-933e-44e7-c796-62facac71a99"
      },
      "execution_count": 8,
      "outputs": [
        {
          "output_type": "stream",
          "name": "stdout",
          "text": [
            "Odd numbers in the list: [1, 3, 5]\n"
          ]
        }
      ]
    },
    {
      "cell_type": "markdown",
      "source": [
        "Q9. Write a Python program to remove empty lists from a list"
      ],
      "metadata": {
        "id": "KbyIzDl1Hxuf"
      }
    },
    {
      "cell_type": "code",
      "source": [
        "def remove_empty_lists(lst):\n",
        "    result = [sublist for sublist in lst if sublist]\n",
        "    return result\n",
        "\n",
        "my_list = [1, [], 2, [], 3, []]\n",
        "print(\"List after removing empty lists:\", remove_empty_lists(my_list))"
      ],
      "metadata": {
        "colab": {
          "base_uri": "https://localhost:8080/"
        },
        "id": "C_64o5RwHzd3",
        "outputId": "15d66673-7f7f-4b68-ac08-ca31d336a04f"
      },
      "execution_count": 9,
      "outputs": [
        {
          "output_type": "stream",
          "name": "stdout",
          "text": [
            "List after removing empty lists: [1, 2, 3]\n"
          ]
        }
      ]
    },
    {
      "cell_type": "markdown",
      "source": [
        "Q10. Write a Python program to clone or copy a list"
      ],
      "metadata": {
        "id": "mnsSa0VXH5SP"
      }
    },
    {
      "cell_type": "code",
      "source": [
        "def clone_list(lst):\n",
        "    cloned_list = list(lst)\n",
        "    return cloned_list\n",
        "\n",
        "my_list = [1, 2, 3, 4, 5]\n",
        "cloned_list = clone_list(my_list)\n",
        "print(\"Cloned list:\", cloned_list)"
      ],
      "metadata": {
        "colab": {
          "base_uri": "https://localhost:8080/"
        },
        "id": "1WeaeXNQH2e_",
        "outputId": "19efceb5-4178-4d14-9aeb-d95886f16ac3"
      },
      "execution_count": 10,
      "outputs": [
        {
          "output_type": "stream",
          "name": "stdout",
          "text": [
            "Cloned list: [1, 2, 3, 4, 5]\n"
          ]
        }
      ]
    },
    {
      "cell_type": "markdown",
      "source": [
        "Q11. Write a Python program to count occurrences of an element in a list"
      ],
      "metadata": {
        "id": "FohUDUMMIPUg"
      }
    },
    {
      "cell_type": "code",
      "source": [
        "def count_occurrences(lst, element):\n",
        "    count = lst.count(element)\n",
        "    return count\n",
        "\n",
        "my_list = [1, 2, 3, 4, 2, 2, 5]\n",
        "element = 2\n",
        "print(\"Number of occurrences of\", element, \"in the list:\", count_occurrences(my_list, element))"
      ],
      "metadata": {
        "colab": {
          "base_uri": "https://localhost:8080/"
        },
        "id": "Y8cLn1_6H_W_",
        "outputId": "d3487559-0c71-4406-fa3c-8412dcb4789a"
      },
      "execution_count": 11,
      "outputs": [
        {
          "output_type": "stream",
          "name": "stdout",
          "text": [
            "Number of occurrences of 2 in the list: 3\n"
          ]
        }
      ]
    }
  ]
}