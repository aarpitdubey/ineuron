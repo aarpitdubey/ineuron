{
  "nbformat": 4,
  "nbformat_minor": 0,
  "metadata": {
    "colab": {
      "provenance": [],
      "authorship_tag": "ABX9TyOWSnakDA/aj5Mixia9CNNp",
      "include_colab_link": true
    },
    "kernelspec": {
      "name": "python3",
      "display_name": "Python 3"
    },
    "language_info": {
      "name": "python"
    }
  },
  "cells": [
    {
      "cell_type": "markdown",
      "metadata": {
        "id": "view-in-github",
        "colab_type": "text"
      },
      "source": [
        "<a href=\"https://colab.research.google.com/github/aarpitdubey/ineuron/blob/main/Python/Python%20Basic%20Assignment/Programming_Assignments/Programming_Assignment_7_Solution.ipynb\" target=\"_parent\"><img src=\"https://colab.research.google.com/assets/colab-badge.svg\" alt=\"Open In Colab\"/></a>"
      ]
    },
    {
      "cell_type": "markdown",
      "source": [
        "Q1. Write a Python Program to Find the Sum of an Array"
      ],
      "metadata": {
        "id": "JNDgzXczgL48"
      }
    },
    {
      "cell_type": "code",
      "execution_count": 1,
      "metadata": {
        "colab": {
          "base_uri": "https://localhost:8080/"
        },
        "id": "SGOR-hpIgGLm",
        "outputId": "cb099b9f-d5bf-4631-904d-fecd9c40c8f6"
      },
      "outputs": [
        {
          "output_type": "stream",
          "name": "stdout",
          "text": [
            "Sum of the array: 15\n"
          ]
        }
      ],
      "source": [
        "def array_sum(arr):\n",
        "    total = 0\n",
        "    for num in arr:\n",
        "        total += num\n",
        "    return total\n",
        "\n",
        "array = [1, 2, 3, 4, 5]\n",
        "sum_of_array = array_sum(array)\n",
        "print(\"Sum of the array:\", sum_of_array)"
      ]
    },
    {
      "cell_type": "markdown",
      "source": [
        "Q2. Write a Python Program to Find the Largest Element in an Array"
      ],
      "metadata": {
        "id": "DK85uAO2gT9c"
      }
    },
    {
      "cell_type": "code",
      "source": [
        "def find_largest_element(arr):\n",
        "    largest = arr[0]\n",
        "    for num in arr:\n",
        "        if num > largest:\n",
        "            largest = num\n",
        "    return largest\n",
        "\n",
        "array = [10, 5, 20, 15, 25]\n",
        "largest_element = find_largest_element(array)\n",
        "print(\"Largest element in the array:\", largest_element)"
      ],
      "metadata": {
        "colab": {
          "base_uri": "https://localhost:8080/"
        },
        "id": "tgjJWinugPkF",
        "outputId": "e1e014ce-dcc5-4c67-f23b-b8fe9fb8f06f"
      },
      "execution_count": 2,
      "outputs": [
        {
          "output_type": "stream",
          "name": "stdout",
          "text": [
            "Largest element in the array: 25\n"
          ]
        }
      ]
    },
    {
      "cell_type": "markdown",
      "source": [
        "Q3. Write a Python Program for Array Rotation"
      ],
      "metadata": {
        "id": "GBZpnHDqgbX8"
      }
    },
    {
      "cell_type": "code",
      "source": [
        "def rotate_array(arr, k):\n",
        "    n = len(arr)\n",
        "    rotated_array = arr[k:] + arr[:k]\n",
        "    return rotated_array\n",
        "\n",
        "array = [1, 2, 3, 4, 5]\n",
        "k = 2\n",
        "rotated = rotate_array(array, k)\n",
        "print(\"Rotated array:\", rotated)"
      ],
      "metadata": {
        "colab": {
          "base_uri": "https://localhost:8080/"
        },
        "id": "rf7yfjYXgYT8",
        "outputId": "1b9bb905-6292-42a4-8150-3701166f276f"
      },
      "execution_count": 3,
      "outputs": [
        {
          "output_type": "stream",
          "name": "stdout",
          "text": [
            "Rotated array: [3, 4, 5, 1, 2]\n"
          ]
        }
      ]
    },
    {
      "cell_type": "markdown",
      "source": [
        "Q4. Write a Python Program to Split the Array and Add the First Part to the End"
      ],
      "metadata": {
        "id": "93pq8AEVghvr"
      }
    },
    {
      "cell_type": "code",
      "source": [
        "def split_array(arr, k):\n",
        "    split_index = k % len(arr)\n",
        "    split_array = arr[split_index:] + arr[:split_index]\n",
        "    return split_array\n",
        "\n",
        "array = [1, 2, 3, 4, 5]\n",
        "k = 2\n",
        "split = split_array(array, k)\n",
        "print(\"Split array:\", split)"
      ],
      "metadata": {
        "colab": {
          "base_uri": "https://localhost:8080/"
        },
        "id": "JobFATRQgfUE",
        "outputId": "ad4eaf71-b56b-4863-8457-c603600e4d44"
      },
      "execution_count": 4,
      "outputs": [
        {
          "output_type": "stream",
          "name": "stdout",
          "text": [
            "Split array: [3, 4, 5, 1, 2]\n"
          ]
        }
      ]
    },
    {
      "cell_type": "markdown",
      "source": [
        "Q5. Write a Python Program to Check if a Given Array is Monotonic"
      ],
      "metadata": {
        "id": "I6Py1omqgpRE"
      }
    },
    {
      "cell_type": "code",
      "source": [
        "def is_monotonic(arr):\n",
        "    increasing = decreasing = True\n",
        "    for i in range(1, len(arr)):\n",
        "        if arr[i] < arr[i-1]:\n",
        "            increasing = False\n",
        "        if arr[i] > arr[i-1]:\n",
        "            decreasing = False\n",
        "    return increasing or decreasing\n",
        "\n",
        "array = [1, 2, 3, 4, 5]\n",
        "is_monotonic_array = is_monotonic(array)\n",
        "print(\"Is the array monotonic?\", is_monotonic_array)"
      ],
      "metadata": {
        "colab": {
          "base_uri": "https://localhost:8080/"
        },
        "id": "F6ffKtVAgk6U",
        "outputId": "6403ef7a-abea-4149-91de-e9ef3d913e90"
      },
      "execution_count": 5,
      "outputs": [
        {
          "output_type": "stream",
          "name": "stdout",
          "text": [
            "Is the array monotonic? True\n"
          ]
        }
      ]
    }
  ]
}