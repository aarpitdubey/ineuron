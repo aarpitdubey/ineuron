{
  "nbformat": 4,
  "nbformat_minor": 0,
  "metadata": {
    "colab": {
      "provenance": [],
      "authorship_tag": "ABX9TyMLT7T3f7UiowpxOUxdY/Ok",
      "include_colab_link": true
    },
    "kernelspec": {
      "name": "python3",
      "display_name": "Python 3"
    },
    "language_info": {
      "name": "python"
    }
  },
  "cells": [
    {
      "cell_type": "markdown",
      "metadata": {
        "id": "view-in-github",
        "colab_type": "text"
      },
      "source": [
        "<a href=\"https://colab.research.google.com/github/aarpitdubey/ineuron/blob/main/Python/Python%20Basic%20Assignment/Programming_Assignments/Programming_Assignment_5_Solution.ipynb\" target=\"_parent\"><img src=\"https://colab.research.google.com/assets/colab-badge.svg\" alt=\"Open In Colab\"/></a>"
      ]
    },
    {
      "cell_type": "markdown",
      "source": [
        "Q1. Write a Python Program to Find LCM"
      ],
      "metadata": {
        "id": "ucfw_5vwa0t2"
      }
    },
    {
      "cell_type": "code",
      "execution_count": null,
      "metadata": {
        "colab": {
          "base_uri": "https://localhost:8080/"
        },
        "id": "5VJXxpACapRC",
        "outputId": "c669b8c5-35f0-4682-b126-550ce11ead4f"
      },
      "outputs": [
        {
          "output_type": "stream",
          "name": "stdout",
          "text": [
            "Enter first number: 12\n",
            "Enter second number: 24\n",
            "LCM of 12 and 24 is 24\n"
          ]
        }
      ],
      "source": [
        "def find_lcm(num1, num2):\n",
        "    if num1 > num2:\n",
        "        greater = num1\n",
        "    else:\n",
        "        greater = num2\n",
        "\n",
        "    while True:\n",
        "        if greater % num1 == 0 and greater % num2 == 0:\n",
        "            lcm = greater\n",
        "            break\n",
        "        greater += 1\n",
        "\n",
        "    return lcm\n",
        "\n",
        "\n",
        "num1 = int(input(\"Enter first number: \"))\n",
        "num2 = int(input(\"Enter second number: \"))\n",
        "\n",
        "lcm = find_lcm(num1, num2)\n",
        "\n",
        "print(\"LCM of\", num1, \"and\", num2, \"is\", lcm)"
      ]
    },
    {
      "cell_type": "markdown",
      "source": [
        "Q2. Write a Python Program to Find HCF"
      ],
      "metadata": {
        "id": "GU7RzQVLbPZV"
      }
    },
    {
      "cell_type": "code",
      "source": [
        "def find_hcf(num1, num2):\n",
        "    while num2 != 0:\n",
        "        temp = num2\n",
        "        num2 = num1 % num2\n",
        "        num1 = temp\n",
        "    return num1\n",
        "\n",
        "\n",
        "num1 = int(input(\"Enter first number: \"))\n",
        "num2 = int(input(\"Enter second number: \"))\n",
        "\n",
        "hcf = find_hcf(num1, num2)\n",
        "\n",
        "print(\"HCF of\", num1, \"and\", num2, \"is\", hcf)"
      ],
      "metadata": {
        "colab": {
          "base_uri": "https://localhost:8080/"
        },
        "id": "KMb5pP4Xa4nN",
        "outputId": "b68a5218-f972-4cf4-d4ef-ebd76c2a4964"
      },
      "execution_count": null,
      "outputs": [
        {
          "output_type": "stream",
          "name": "stdout",
          "text": [
            "Enter first number: 56\n",
            "Enter second number: 72\n",
            "HCF of 56 and 72 is 8\n"
          ]
        }
      ]
    },
    {
      "cell_type": "markdown",
      "source": [
        "Q3. Write a Python Program to Convert Decimal to Binary, Octal, and Hexadecimal"
      ],
      "metadata": {
        "id": "aT2CHCasbbSd"
      }
    },
    {
      "cell_type": "code",
      "source": [
        "decimal = int(input(\"Enter a decimal number: \"))\n",
        "\n",
        "binary = bin(decimal)\n",
        "octal = oct(decimal)\n",
        "hexadecimal = hex(decimal)\n",
        "\n",
        "print(\"Decimal:\", decimal)\n",
        "print(\"Binary:\", binary)\n",
        "print(\"Octal:\", octal)\n",
        "print(\"Hexadecimal:\", hexadecimal)"
      ],
      "metadata": {
        "colab": {
          "base_uri": "https://localhost:8080/"
        },
        "id": "A3s0NkoPbS0F",
        "outputId": "793a0888-cebb-4e1d-9537-998ce2aad2b2"
      },
      "execution_count": null,
      "outputs": [
        {
          "output_type": "stream",
          "name": "stdout",
          "text": [
            "Enter a decimal number: 15\n",
            "Decimal: 15\n",
            "Binary: 0b1111\n",
            "Octal: 0o17\n",
            "Hexadecimal: 0xf\n"
          ]
        }
      ]
    },
    {
      "cell_type": "markdown",
      "source": [
        "Q4. Write a Python Program to Find ASCII value of a character"
      ],
      "metadata": {
        "id": "kOPufxESbkj9"
      }
    },
    {
      "cell_type": "code",
      "source": [
        "character = input(\"Enter a character: \")\n",
        "\n",
        "ascii_value = ord(character)\n",
        "\n",
        "print(\"ASCII value of\", character, \"is\", ascii_value)"
      ],
      "metadata": {
        "colab": {
          "base_uri": "https://localhost:8080/"
        },
        "id": "gZckht5Bbe5F",
        "outputId": "58497551-ed81-4953-b651-73a71f863a50"
      },
      "execution_count": null,
      "outputs": [
        {
          "output_type": "stream",
          "name": "stdout",
          "text": [
            "Enter a character: A\n",
            "ASCII value of A is 65\n"
          ]
        }
      ]
    },
    {
      "cell_type": "markdown",
      "source": [
        "Q5. Write a Python Program to Make a Simple Calculator with 4 basic mathematical operations"
      ],
      "metadata": {
        "id": "fia4XYuFbthk"
      }
    },
    {
      "cell_type": "code",
      "source": [
        "def add(num1, num2):\n",
        "    return num1 + num2\n",
        "\n",
        "def subtract(num1, num2):\n",
        "    return num1 - num2\n",
        "\n",
        "def multiply(num1, num2):\n",
        "    return num1 * num2\n",
        "\n",
        "def divide(num1, num2):\n",
        "    return num1 / num2\n",
        "\n",
        "\n",
        "num1 = float(input(\"Enter first number: \"))\n",
        "operator = input(\"Enter operator (+, -, *, /): \")\n",
        "num2 = float(input(\"Enter second number: \"))\n",
        "\n",
        "result = 0\n",
        "\n",
        "if operator == \"+\":\n",
        "    result = add(num1, num2)\n",
        "elif operator == \"-\":\n",
        "    result = subtract(num1, num2)\n",
        "elif operator == \"*\":\n",
        "    result = multiply(num1, num2)\n",
        "elif operator == \"/\":\n",
        "    result = divide(num1, num2)\n",
        "else:\n",
        "    print(\"Invalid operator!\")\n",
        "\n",
        "print(\"Result:\", result)"
      ],
      "metadata": {
        "colab": {
          "base_uri": "https://localhost:8080/"
        },
        "id": "axRw8frVbwE0",
        "outputId": "29b58a9f-5457-42f9-96c1-6397c575a2e4"
      },
      "execution_count": null,
      "outputs": [
        {
          "output_type": "stream",
          "name": "stdout",
          "text": [
            "Enter first number: 2\n",
            "Enter operator (+, -, *, /): *\n",
            "Enter second number: 5\n",
            "Result: 10.0\n"
          ]
        }
      ]
    }
  ]
}