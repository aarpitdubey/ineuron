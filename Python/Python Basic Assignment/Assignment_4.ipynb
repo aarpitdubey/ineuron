{
  "nbformat": 4,
  "nbformat_minor": 0,
  "metadata": {
    "colab": {
      "name": "Assignment_4.ipynb",
      "provenance": [],
      "collapsed_sections": [],
      "authorship_tag": "ABX9TyNBsJFjQ6hhKki6No9MDIFg",
      "include_colab_link": true
    },
    "kernelspec": {
      "name": "python3",
      "display_name": "Python 3"
    },
    "language_info": {
      "name": "python"
    }
  },
  "cells": [
    {
      "cell_type": "markdown",
      "metadata": {
        "id": "view-in-github",
        "colab_type": "text"
      },
      "source": [
        "<a href=\"https://colab.research.google.com/github/aarpitdubey/ineuron/blob/main/Python/Python%20Basic%20Assignment/Assignment_4.ipynb\" target=\"_parent\"><img src=\"https://colab.research.google.com/assets/colab-badge.svg\" alt=\"Open In Colab\"/></a>"
      ]
    },
    {
      "cell_type": "markdown",
      "source": [
        "**Ques 1: 1. What exactly is [ ]?**\n",
        "\n",
        "**Ans :** These square brackets `[]` represents it as a List.\n",
        "As we can see, It is having no elements so, it is an empty List.\n",
        "\n",
        "**Empty List:** A List which contain no elements/items or zero element/item.\n",
        "\n",
        "**For Example:** When we create an empty String ```emptyString=''```\n",
        "In the similar way we can create empty List, tuple set, dictionary etc.,\n",
        "\n",
        "We can define the empty list in two ways:\n",
        "1. emptyList = [ ], by creating empty list\n",
        "2. emptyList = list(), or by function call"
      ],
      "metadata": {
        "id": "p5OOPzXCwNGq"
      }
    },
    {
      "cell_type": "code",
      "execution_count": 1,
      "metadata": {
        "colab": {
          "base_uri": "https://localhost:8080/"
        },
        "id": "GRTwXonfwCZz",
        "outputId": "01616640-3ce7-4730-958c-890d746967b1"
      },
      "outputs": [
        {
          "output_type": "stream",
          "name": "stdout",
          "text": [
            "1. <class 'list'>\n",
            "2. <class 'list'>\n"
          ]
        }
      ],
      "source": [
        "#Example\n",
        "#declaration of an empty list\n",
        "emptyList = []\n",
        "emptyList_ = list()\n",
        "\n",
        "#checking the type of list\n",
        "print(f\"1. {type(emptyList)}\") \n",
        "print(f\"2. {type(emptyList_)}\") "
      ]
    },
    {
      "cell_type": "code",
      "source": [
        "%%timeit \n",
        "t=[]"
      ],
      "metadata": {
        "colab": {
          "base_uri": "https://localhost:8080/"
        },
        "id": "_LDcuu6yBkaS",
        "outputId": "aa9b875d-39ae-440d-f95e-799b00f2cdd8"
      },
      "execution_count": 2,
      "outputs": [
        {
          "output_type": "stream",
          "name": "stdout",
          "text": [
            "10000000 loops, best of 5: 32.3 ns per loop\n"
          ]
        }
      ]
    },
    {
      "cell_type": "code",
      "source": [
        "t=[] #implicit instantiation\n",
        "t=t.append(1)"
      ],
      "metadata": {
        "id": "dvdUtdyZRP9S"
      },
      "execution_count": 3,
      "outputs": []
    },
    {
      "cell_type": "code",
      "source": [
        "t.append(2)"
      ],
      "metadata": {
        "colab": {
          "base_uri": "https://localhost:8080/",
          "height": 165
        },
        "id": "I7uvV6FURlEi",
        "outputId": "95810a22-d39d-42d0-b32d-767fe5813166"
      },
      "execution_count": 4,
      "outputs": [
        {
          "output_type": "error",
          "ename": "AttributeError",
          "evalue": "ignored",
          "traceback": [
            "\u001b[0;31m---------------------------------------------------------------------------\u001b[0m",
            "\u001b[0;31mAttributeError\u001b[0m                            Traceback (most recent call last)",
            "\u001b[0;32m<ipython-input-4-1b86797e75d8>\u001b[0m in \u001b[0;36m<module>\u001b[0;34m()\u001b[0m\n\u001b[0;32m----> 1\u001b[0;31m \u001b[0mt\u001b[0m\u001b[0;34m.\u001b[0m\u001b[0mappend\u001b[0m\u001b[0;34m(\u001b[0m\u001b[0;36m2\u001b[0m\u001b[0;34m)\u001b[0m\u001b[0;34m\u001b[0m\u001b[0;34m\u001b[0m\u001b[0m\n\u001b[0m",
            "\u001b[0;31mAttributeError\u001b[0m: 'NoneType' object has no attribute 'append'"
          ]
        }
      ]
    },
    {
      "cell_type": "code",
      "source": [
        "%%timeit \n",
        "l=list()"
      ],
      "metadata": {
        "colab": {
          "base_uri": "https://localhost:8080/"
        },
        "id": "V6qnlfQiB75b",
        "outputId": "78512a44-cd61-4766-a927-e84a50c09a92"
      },
      "execution_count": 5,
      "outputs": [
        {
          "output_type": "stream",
          "name": "stdout",
          "text": [
            "The slowest run took 13.98 times longer than the fastest. This could mean that an intermediate result is being cached.\n",
            "10000000 loops, best of 5: 98.1 ns per loop\n"
          ]
        }
      ]
    },
    {
      "cell_type": "code",
      "source": [
        "l=list() # explicit instantiation\n",
        "l.append(1)"
      ],
      "metadata": {
        "id": "myhxHWmRRsAK"
      },
      "execution_count": 6,
      "outputs": []
    },
    {
      "cell_type": "code",
      "source": [
        "l.append(2)"
      ],
      "metadata": {
        "id": "sEQE-e_6Rv0a"
      },
      "execution_count": 7,
      "outputs": []
    },
    {
      "cell_type": "markdown",
      "source": [
        "### **Observation :** \n",
        "1. we can create an empty list using empty square brackets. `emptyList = []`\n",
        "\n",
        "2. We can also create empty list using the pre-defined function calling of `list()` function.\n",
        "`emptyList = list()`\n",
        "\n",
        "3. `t=[]` is faster as compare to `l=list()` but `t=[]` is implicit instantiation so, Interpreter gives t with out any list as output where as `l=list()` is explicit instantiation so, it won't raise error \"'NoneType' object has no attribute\" on appending."
      ],
      "metadata": {
        "id": "5qfxtYiWAVUS"
      }
    },
    {
      "cell_type": "markdown",
      "source": [
        "**Ques 2: In a list of values stored in a variable called spam, how would you assign the value 'hello' as the third value? (Assume [2, 4, 6, 8, 10] are in spam.)**\n",
        "\n",
        "**Ans 2:** Given list is [2, 4, 6, 8, 10], our task is to insert new value or to replace the existing value of 3rd element/item from the list with string \"hello\"\n",
        "\n",
        "For, this we have to understand about indexing in a list.\n",
        "\n",
        "indexing in a list start from 0th index and goes upto (length of list - 1)th index.\n",
        "\n",
        "let's execute our task: "
      ],
      "metadata": {
        "id": "ROv136e_THzL"
      }
    },
    {
      "cell_type": "code",
      "source": [
        "givenList = [2, 4, 6, 8, 10]\n",
        "#indexing\n",
        "\n",
        "for ele in givenList:\n",
        "  print(f\"{givenList.index(ele)} : {ele}\")"
      ],
      "metadata": {
        "colab": {
          "base_uri": "https://localhost:8080/"
        },
        "id": "90BBUcW4zY5Y",
        "outputId": "6f5c3692-357d-4c64-99c3-f77c5bc25670"
      },
      "execution_count": 8,
      "outputs": [
        {
          "output_type": "stream",
          "name": "stdout",
          "text": [
            "0 : 2\n",
            "1 : 4\n",
            "2 : 6\n",
            "3 : 8\n",
            "4 : 10\n"
          ]
        }
      ]
    },
    {
      "cell_type": "markdown",
      "source": [
        "Hence, we have to replace the **element value 6** having **2nd index** which is the **3rd element/item in given list**."
      ],
      "metadata": {
        "id": "jicrZtMLbjYT"
      }
    },
    {
      "cell_type": "code",
      "source": [
        "givenList[2]='hello'\n",
        "print(\"Replace element by slicing givenList[2]='hello' :  \",givenList)\n",
        "print('-'*80)\n",
        "\n",
        "\n",
        "\n",
        "givenList = [2, 4, 6, 8, 10]\n",
        "print(\"Give List is : \",givenList)\n",
        "print('-'*80)\n",
        "\n",
        "givenList[-3]='hello'\n",
        "print(\"Replace element by slicing givenList[-3]='hello' :  \", givenList)"
      ],
      "metadata": {
        "colab": {
          "base_uri": "https://localhost:8080/"
        },
        "id": "O4oaYqBtZVez",
        "outputId": "ee8a618e-dac1-4c64-93a8-3692563d4d94"
      },
      "execution_count": 9,
      "outputs": [
        {
          "output_type": "stream",
          "name": "stdout",
          "text": [
            "Replace element by slicing givenList[2]='hello' :   [2, 4, 'hello', 8, 10]\n",
            "--------------------------------------------------------------------------------\n",
            "Give List is :  [2, 4, 6, 8, 10]\n",
            "--------------------------------------------------------------------------------\n",
            "Replace element by slicing givenList[-3]='hello' :   [2, 4, 'hello', 8, 10]\n"
          ]
        }
      ]
    },
    {
      "cell_type": "markdown",
      "source": [
        "## **Let&#39;s pretend the spam includes the list [&#39;a&#39;, &#39;b&#39;, &#39;c&#39;, &#39;d&#39;] for the next three queries.**\n",
        "\n",
        "**Ques 3: What is the value of spam[int(int(&#39;3&#39; * 2) / 11)]?**\n",
        "\n",
        "**Ans :** Given list is `spam = ['a', 'b', 'c', 'd']`, the given equation is : `spam[int(int('3'*2)//11)]`. So, let's break the equation into parts.\n",
        "\n",
        "* '3' * 2 will gives '33' to us.\n",
        "* int('33') will give 33 as an integer value.\n",
        "* int('3'*2)//11  -->  int('33')//11  -->  33//11, will gives integer value that is 3.\n",
        "*spam[int(3)] --> spam[3], will give 'd' value according to the given List.\n",
        "\n",
        "So, the whole expression evaluates to 3 and 3 is the index number of the list element 'd'.\n",
        "\n",
        "let's check it through code:"
      ],
      "metadata": {
        "id": "0e5S-BcZio3T"
      }
    },
    {
      "cell_type": "code",
      "source": [
        "spam = ['a', 'b', 'c', 'd']\n",
        "\n",
        "print(f\"spam[int(int('3'*2)//11)], it will gives : '{spam[int(int('3'*2)//11)]}' as output\")"
      ],
      "metadata": {
        "colab": {
          "base_uri": "https://localhost:8080/"
        },
        "id": "nfbfoxjAjs8c",
        "outputId": "9b110789-7e3d-4286-dd7f-92ed3cd67ec6"
      },
      "execution_count": 10,
      "outputs": [
        {
          "output_type": "stream",
          "name": "stdout",
          "text": [
            "spam[int(int('3'*2)//11)], it will gives : 'd' as output\n"
          ]
        }
      ]
    },
    {
      "cell_type": "markdown",
      "source": [
        "**Ques 4: What is the value of spam[-1]?**\n",
        "\n",
        "**Ans :** As we already see in the above example that list do support negative indexing. Hence, \n",
        "  `span[-1]` will gives `'d'` as the output.\n",
        "\n",
        "let's check it out:"
      ],
      "metadata": {
        "id": "-6aYozJFvJnk"
      }
    },
    {
      "cell_type": "code",
      "source": [
        "print(f\"spam[-1], it will gives : '{spam[-1]}' as output\")"
      ],
      "metadata": {
        "colab": {
          "base_uri": "https://localhost:8080/"
        },
        "id": "o9IpMLoluowb",
        "outputId": "924d1fcb-fe22-4337-c1af-eb755e1fb3fb"
      },
      "execution_count": 11,
      "outputs": [
        {
          "output_type": "stream",
          "name": "stdout",
          "text": [
            "spam[-1], it will gives : 'd' as output\n"
          ]
        }
      ]
    },
    {
      "cell_type": "markdown",
      "source": [
        "**Ques 5: What is the value of spam[:2]?**\n",
        "\n",
        "**Ans :** `spam[:2]` it is a concept of python slicing where `list_name[start : end : stepsize/jumps]` are given, here spam[:2] means end index is 2 upto that python interpreter has to print the values of the list."
      ],
      "metadata": {
        "id": "UlALfV2swKu8"
      }
    },
    {
      "cell_type": "code",
      "source": [
        "print(f\"spam[:2], it will gives : '{spam[:2]}' as output\")"
      ],
      "metadata": {
        "colab": {
          "base_uri": "https://localhost:8080/"
        },
        "outputId": "2acacd14-669b-4668-bd85-7fd9c2e780fd",
        "id": "gR9UiHENbSe3"
      },
      "execution_count": 12,
      "outputs": [
        {
          "output_type": "stream",
          "name": "stdout",
          "text": [
            "spam[:2], it will gives : '['a', 'b']' as output\n"
          ]
        }
      ]
    },
    {
      "cell_type": "markdown",
      "source": [
        "## **Let's pretend bacon has the list [3.14,'cat',11,'cat',True] for the next three question**\n",
        "\n",
        "**Ques 6: What is the value of bacon.index('cat')?**\n",
        "\n",
        "**Ans :** Given List bacon = [3.14,'cat',11,'cat',True], The value of `bacon.index('cat')` will be `1` because 'cat' element is at position of `indexed 1`.\n",
        "\n",
        "index() method return\\s the first occurrence of the element which is passed as an argument / input.\n",
        "\n",
        "let's see in code:\n",
        "\n",
        "\n"
      ],
      "metadata": {
        "id": "sIGTUlU4d_6H"
      }
    },
    {
      "cell_type": "code",
      "source": [
        "bacon = [3.14,'cat',11,'cat',True]\n",
        "\n",
        "print(f\"bacon.index('cat'), it will give : '{bacon.index('cat')}' as their index value or positional value in the list.\")"
      ],
      "metadata": {
        "colab": {
          "base_uri": "https://localhost:8080/"
        },
        "id": "C2LSXL3AbWNx",
        "outputId": "691c6ef2-de2a-4568-f637-d12f7cfa4d5b"
      },
      "execution_count": 13,
      "outputs": [
        {
          "output_type": "stream",
          "name": "stdout",
          "text": [
            "bacon.index('cat'), it will give : '1' as their index value or positional value in the list.\n"
          ]
        }
      ]
    },
    {
      "cell_type": "markdown",
      "source": [
        "**Ques 7: How does bacon.append(99) change the look of the list value in bacon?**\n",
        "\n",
        "**Ans :** The `append` method adds new elements to the end of the list. let's see in code:"
      ],
      "metadata": {
        "id": "EiWQmB2IfvHe"
      }
    },
    {
      "cell_type": "code",
      "source": [
        "#Example\n",
        "#Before appending\n",
        "print(f\"Before Appending : {bacon}\")\n",
        "\n",
        "#Appending: element append/added at the end of the list\n",
        "bacon.append(99)\n",
        "\n",
        "#After appending 99\n",
        "print(f\"After Appending : {bacon}\")"
      ],
      "metadata": {
        "colab": {
          "base_uri": "https://localhost:8080/"
        },
        "id": "jVksDO9Jfh3Z",
        "outputId": "f51d7439-39f0-4991-d91c-3350b12035a8"
      },
      "execution_count": 14,
      "outputs": [
        {
          "output_type": "stream",
          "name": "stdout",
          "text": [
            "Before Appending : [3.14, 'cat', 11, 'cat', True]\n",
            "After Appending : [3.14, 'cat', 11, 'cat', True, 99]\n"
          ]
        }
      ]
    },
    {
      "cell_type": "markdown",
      "source": [
        "**Ques 8: How does bacon.remove('cat') change the look of the list in bacon?**\n",
        "\n",
        "**Ans :** The `remove` method removes the first occurence of the element in the list."
      ],
      "metadata": {
        "id": "jeiEoGqCzX2b"
      }
    },
    {
      "cell_type": "code",
      "source": [
        "#Example\n",
        "#Before appending\n",
        "print(f\"Before Removing : {bacon}\")\n",
        "\n",
        "#Remove(): remove element from the list.\n",
        "bacon.remove('cat')\n",
        "\n",
        "#After appending 99\n",
        "print(f\"After Removing : {bacon}\")"
      ],
      "metadata": {
        "id": "CWeWuE0Hgm2b",
        "colab": {
          "base_uri": "https://localhost:8080/"
        },
        "outputId": "507e7546-883a-405d-b97d-870a17758d9c"
      },
      "execution_count": 15,
      "outputs": [
        {
          "output_type": "stream",
          "name": "stdout",
          "text": [
            "Before Removing : [3.14, 'cat', 11, 'cat', True, 99]\n",
            "After Removing : [3.14, 11, 'cat', True, 99]\n"
          ]
        }
      ]
    },
    {
      "cell_type": "markdown",
      "source": [
        "**Ques 9: what are the list concatenation and list replication operations?**\n",
        "\n",
        "**Ans :** The operator that can be used for list concatenation is `+`,while the operator for replication is `*`. (This is the same as for strings.)"
      ],
      "metadata": {
        "id": "nhTdRSMw-aG9"
      }
    },
    {
      "cell_type": "code",
      "source": [
        "#Example\n",
        "\n",
        "subject = [\"ML\", \"DL\", \"AI\", \"CV\", \"NLP\"]\n",
        "topics  = [\"CNN\", \"RNN\", \"SVM\", \"LSTM\", \"SVN\"]\n",
        "\n",
        "print(f\"List concatenation : {subject + topics}\") # List concatenation\n",
        "print(f\"List Replication :   {topics * 2}\") # List Replication"
      ],
      "metadata": {
        "colab": {
          "base_uri": "https://localhost:8080/"
        },
        "id": "pTVmHKYz-Zge",
        "outputId": "cea7d10a-729c-49fc-ad0b-e3984f72ab32"
      },
      "execution_count": 16,
      "outputs": [
        {
          "output_type": "stream",
          "name": "stdout",
          "text": [
            "List concatenation : ['ML', 'DL', 'AI', 'CV', 'NLP', 'CNN', 'RNN', 'SVM', 'LSTM', 'SVN']\n",
            "List Replication :   ['CNN', 'RNN', 'SVM', 'LSTM', 'SVN', 'CNN', 'RNN', 'SVM', 'LSTM', 'SVN']\n"
          ]
        }
      ]
    },
    {
      "cell_type": "markdown",
      "source": [
        "**Ques 10 : What is the difference between the list method append() and insert()?**\n",
        "\n",
        "**Ans :** **append()** method will add element/items/values always at the end of the list.\n",
        "whereas, **insert()** can add them in anywhere inside the list."
      ],
      "metadata": {
        "id": "5IVcI-TTAoNM"
      }
    },
    {
      "cell_type": "code",
      "source": [
        "#Example\n",
        "\n",
        "list_ = [1, 2, 3, 4, 5]\n",
        "print(f\"Assumed List Before Appending: {list_}\")\n",
        "list_.append(\"list description: list of 5 elements\")\n",
        "print(f\"Assumed List after Appending: {list_}\\n\")\n",
        "print('-'*80)\n",
        "print(f\"\\nAssumed List Before inserting: {list_}\")\n",
        "list_.insert(2, \"two-&-half\")\n",
        "print(f\"Assumed List after inserting: {list_}\")\n"
      ],
      "metadata": {
        "id": "EJiBpjSHAhXm",
        "colab": {
          "base_uri": "https://localhost:8080/"
        },
        "outputId": "2f0652b5-b854-47fa-84b0-bdded8ce9768"
      },
      "execution_count": 17,
      "outputs": [
        {
          "output_type": "stream",
          "name": "stdout",
          "text": [
            "Assumed List Before Appending: [1, 2, 3, 4, 5]\n",
            "Assumed List after Appending: [1, 2, 3, 4, 5, 'list description: list of 5 elements']\n",
            "\n",
            "--------------------------------------------------------------------------------\n",
            "\n",
            "Assumed List Before inserting: [1, 2, 3, 4, 5, 'list description: list of 5 elements']\n",
            "Assumed List after inserting: [1, 2, 'two-&-half', 3, 4, 5, 'list description: list of 5 elements']\n"
          ]
        }
      ]
    },
    {
      "cell_type": "markdown",
      "source": [
        "**Ques 11: What are the two methods for removing items from a list?**\n",
        "\n",
        "**Ans :** Generally, `del` statement and the `remove()` are the two ways to remove values from a list but if we want to save the element we use `pop()` method also,"
      ],
      "metadata": {
        "id": "9OCxPCWnBdYJ"
      }
    },
    {
      "cell_type": "code",
      "source": [
        "#Example\n",
        "compList = ['Meta', 'Amazon', 'Apple', 'Netflix', 'Google', 'Swiggy', 'Microsoft']\n",
        "\n",
        "#remove()\n",
        "print(f\"Before Removing Company List: {compList}\")\n",
        "compList.remove('Swiggy')\n",
        "print(f\"After Removing Company List:  {compList}\")\n",
        "print('-'*80)\n",
        "\n",
        "#pop()\n",
        "print(f\"Before poping out Google: {compList}\")\n",
        "dream_company = compList.pop(4)\n",
        "print(f\"After poping out Google:  {compList}\")\n",
        "print(f\"My dream company : {dream_company}\")\n",
        "print('-'*80)"
      ],
      "metadata": {
        "id": "_qMM7ygl9-JM",
        "colab": {
          "base_uri": "https://localhost:8080/"
        },
        "outputId": "7badde53-427e-4a8e-86bc-ecc3049c88c1"
      },
      "execution_count": 18,
      "outputs": [
        {
          "output_type": "stream",
          "name": "stdout",
          "text": [
            "Before Removing Company List: ['Meta', 'Amazon', 'Apple', 'Netflix', 'Google', 'Swiggy', 'Microsoft']\n",
            "After Removing Company List:  ['Meta', 'Amazon', 'Apple', 'Netflix', 'Google', 'Microsoft']\n",
            "--------------------------------------------------------------------------------\n",
            "Before poping out Google: ['Meta', 'Amazon', 'Apple', 'Netflix', 'Google', 'Microsoft']\n",
            "After poping out Google:  ['Meta', 'Amazon', 'Apple', 'Netflix', 'Microsoft']\n",
            "My dream company : Google\n",
            "--------------------------------------------------------------------------------\n"
          ]
        }
      ]
    },
    {
      "cell_type": "code",
      "source": [
        "del compList\n",
        "\n",
        "print(compList)"
      ],
      "metadata": {
        "colab": {
          "base_uri": "https://localhost:8080/",
          "height": 200
        },
        "id": "mvYQX06zDdqX",
        "outputId": "ca6a7241-83dd-4222-9230-449f17f1afb5"
      },
      "execution_count": 19,
      "outputs": [
        {
          "output_type": "error",
          "ename": "NameError",
          "evalue": "ignored",
          "traceback": [
            "\u001b[0;31m---------------------------------------------------------------------------\u001b[0m",
            "\u001b[0;31mNameError\u001b[0m                                 Traceback (most recent call last)",
            "\u001b[0;32m<ipython-input-19-e5759ccf6b93>\u001b[0m in \u001b[0;36m<module>\u001b[0;34m()\u001b[0m\n\u001b[1;32m      1\u001b[0m \u001b[0;32mdel\u001b[0m \u001b[0mcompList\u001b[0m\u001b[0;34m\u001b[0m\u001b[0;34m\u001b[0m\u001b[0m\n\u001b[1;32m      2\u001b[0m \u001b[0;34m\u001b[0m\u001b[0m\n\u001b[0;32m----> 3\u001b[0;31m \u001b[0mprint\u001b[0m\u001b[0;34m(\u001b[0m\u001b[0mcompList\u001b[0m\u001b[0;34m)\u001b[0m\u001b[0;34m\u001b[0m\u001b[0;34m\u001b[0m\u001b[0m\n\u001b[0m",
            "\u001b[0;31mNameError\u001b[0m: name 'compList' is not defined"
          ]
        }
      ]
    },
    {
      "cell_type": "markdown",
      "source": [
        "**Ques 12: Describe how list values and string values are identical.**\n",
        "\n",
        "**Ans :** List and String both are the collection of values in case of list, it is a heterogenous collection and in case of string it is a homogenous collection of characters.\n",
        "\n",
        "1.  `len()` can give the length of elements or characters for both string and list.\n",
        "2. we can use `indexing` and `slicing` operation for both string and list.\n",
        "3. both uses `+` and `*` operator for concatenation and replication respectively.\n",
        "4. in `for` loop both can use `in` and `not in` operator\n",
        "\n",
        "for example:"
      ],
      "metadata": {
        "id": "c7oGnYcfE6xx"
      }
    },
    {
      "cell_type": "code",
      "source": [
        "s = \"hello\" # string\n",
        "lst = [1, 1.5, 2, 3, 3.5, 4, 5, 'one', 'two', 'three', 'four', 'five'] # List\n",
        "\n",
        "\n",
        "#len()\n",
        "print(f\"Length of sting   : {len(s)}\")\n",
        "print('-'*120)\n",
        "print(f\"Length of List    : {len(lst)}\")\n",
        "print('-'*120)\n",
        "\n",
        "\n",
        "#slicing\n",
        "print(f\"Human makes their own heaven and {s[:len(s)-1]}, by their own karma\")\n",
        "print('-'*120)\n",
        "print(f\"Numeric list of values : {lst[:7]}, string list of values : {lst[7:]}\")\n",
        "print('-'*120)\n",
        "\n",
        "\n",
        "#For loop\n",
        "for char in s:\n",
        "  print(f\"{char}\")\n",
        "print('-'*120)\n",
        "\n",
        "\n",
        "for ele in lst:\n",
        "  print(f\"{ele}\")\n",
        "print('-'*120)"
      ],
      "metadata": {
        "colab": {
          "base_uri": "https://localhost:8080/"
        },
        "outputId": "0e3f0371-e350-4a03-ae72-07974bed388a",
        "id": "utJiZKOyVO4D"
      },
      "execution_count": 20,
      "outputs": [
        {
          "output_type": "stream",
          "name": "stdout",
          "text": [
            "Length of sting   : 5\n",
            "------------------------------------------------------------------------------------------------------------------------\n",
            "Length of List    : 12\n",
            "------------------------------------------------------------------------------------------------------------------------\n",
            "Human makes their own heaven and hell, by their own karma\n",
            "------------------------------------------------------------------------------------------------------------------------\n",
            "Numeric list of values : [1, 1.5, 2, 3, 3.5, 4, 5], string list of values : ['one', 'two', 'three', 'four', 'five']\n",
            "------------------------------------------------------------------------------------------------------------------------\n",
            "h\n",
            "e\n",
            "l\n",
            "l\n",
            "o\n",
            "------------------------------------------------------------------------------------------------------------------------\n",
            "1\n",
            "1.5\n",
            "2\n",
            "3\n",
            "3.5\n",
            "4\n",
            "5\n",
            "one\n",
            "two\n",
            "three\n",
            "four\n",
            "five\n",
            "------------------------------------------------------------------------------------------------------------------------\n"
          ]
        }
      ]
    },
    {
      "cell_type": "markdown",
      "source": [
        "**Ques 13: What's the difference between tuples and lists?**\n",
        "\n",
        "**Ans :** LIsts are `Mutable`. `Indexable` and `Slicable`, the tuple values cannot be changed at all, Also, tuples are represented using parentheses, `()` wjile lists use the square brackets, `[]`\n",
        "\n",
        "for example:"
      ],
      "metadata": {
        "id": "WafZ45uwKNUB"
      }
    },
    {
      "cell_type": "code",
      "source": [
        "#tuple\n",
        "\n",
        "t = 1, 2, \n",
        "t1 = (\"Sudhanshu sir\", \"Krish sir\", \"Hitesh sir\")\n",
        "\n",
        "print(t)\n",
        "print(type(t))\n",
        "print('-'*80)\n",
        "\n",
        "print(t1)\n",
        "print(type(t1))\n",
        "print('-'*80)\n",
        "\n",
        "print(t1[:])\n",
        "\n",
        "t *= 2 #Replication\n",
        "print(t)\n",
        "print('-'*80)\n",
        "\n",
        "t2=(\"Captain India\", \"Hulk\", \"Iron Man\")\n",
        "print(f\"Structure of t1 (before): {id(t1)}\")\n",
        "t1 += t2 # concatenation b/w two tuples\n",
        "print(f\"Structure of t1 (after): {id(t1)}\") # structure change after concatenation means new structure has been introduce\n",
        "print(t1)\n",
        "print(t1 + tuple(\"failure\")) # concatenation can be done with same dtypes\n",
        "\n",
        "\n"
      ],
      "metadata": {
        "colab": {
          "base_uri": "https://localhost:8080/"
        },
        "id": "O7zwGy_lOuTy",
        "outputId": "1d93b3ce-378f-497b-a3c3-8672b14f32f2"
      },
      "execution_count": 21,
      "outputs": [
        {
          "output_type": "stream",
          "name": "stdout",
          "text": [
            "(1, 2)\n",
            "<class 'tuple'>\n",
            "--------------------------------------------------------------------------------\n",
            "('Sudhanshu sir', 'Krish sir', 'Hitesh sir')\n",
            "<class 'tuple'>\n",
            "--------------------------------------------------------------------------------\n",
            "('Sudhanshu sir', 'Krish sir', 'Hitesh sir')\n",
            "(1, 2, 1, 2)\n",
            "--------------------------------------------------------------------------------\n",
            "Structure of t1 (before): 140048449071376\n",
            "Structure of t1 (after): 140048449378240\n",
            "('Sudhanshu sir', 'Krish sir', 'Hitesh sir', 'Captain India', 'Hulk', 'Iron Man')\n",
            "('Sudhanshu sir', 'Krish sir', 'Hitesh sir', 'Captain India', 'Hulk', 'Iron Man', 'f', 'a', 'i', 'l', 'u', 'r', 'e')\n"
          ]
        }
      ]
    },
    {
      "cell_type": "code",
      "source": [
        "# List\n",
        "mentor = ['Sudhansu sir', 'Krish sir', 'Hitesh sir']\n",
        "print(mentor)\n",
        "print(f\"id(): {id(mentor)}\")\n",
        "print('-'*80)\n",
        "\n",
        "#appending on list\n",
        "mentor.append('ineuton team')\n",
        "print(mentor)\n",
        "print(f\"id(): {id(mentor)}\")\n",
        "print('-'*80)\n"
      ],
      "metadata": {
        "id": "67Wq--FmTEii",
        "colab": {
          "base_uri": "https://localhost:8080/"
        },
        "outputId": "22c7ca61-ce71-4f27-fc82-24dca7bc2d25"
      },
      "execution_count": 22,
      "outputs": [
        {
          "output_type": "stream",
          "name": "stdout",
          "text": [
            "['Sudhansu sir', 'Krish sir', 'Hitesh sir']\n",
            "id(): 140048449062464\n",
            "--------------------------------------------------------------------------------\n",
            "['Sudhansu sir', 'Krish sir', 'Hitesh sir', 'ineuton team']\n",
            "id(): 140048449062464\n",
            "--------------------------------------------------------------------------------\n"
          ]
        }
      ]
    },
    {
      "cell_type": "markdown",
      "source": [
        "**Ques 14 : How do you type a tuple value that only contains the integer 42?**\n",
        "\n",
        "**Ans :** As 42 is interger value so, element having a trailing comma will be mandatory to make python interpreter to understand it as a tuple declaration.\n",
        "\n",
        "let's see in  code:\n"
      ],
      "metadata": {
        "id": "cnjZxvsYFc6J"
      }
    },
    {
      "cell_type": "code",
      "source": [
        "team_no = 42\n",
        "print(type(team_no))\n",
        "print('-'*80)\n",
        "\n",
        "team_no1 = (42)\n",
        "print(type(team_no1))\n",
        "print('-'*80)\n",
        "\n",
        "team_no2 = (42,)\n",
        "print(type(team_no2))\n",
        "print('-'*80)"
      ],
      "metadata": {
        "colab": {
          "base_uri": "https://localhost:8080/"
        },
        "id": "E64lxRFJGLrj",
        "outputId": "d34c8a86-8d27-4b8e-fdd8-f3792c63c447"
      },
      "execution_count": 23,
      "outputs": [
        {
          "output_type": "stream",
          "name": "stdout",
          "text": [
            "<class 'int'>\n",
            "--------------------------------------------------------------------------------\n",
            "<class 'int'>\n",
            "--------------------------------------------------------------------------------\n",
            "<class 'tuple'>\n",
            "--------------------------------------------------------------------------------\n"
          ]
        }
      ]
    },
    {
      "cell_type": "markdown",
      "source": [
        "**Ques 15 : How do you get a list value's tuple form? How do you get a tuple value's list form?**\n",
        "\n",
        "**Ans :**  Python has rich libraries and in-built functions which help to convert one data type to another data types.\n",
        "\n",
        "In order to convert the list value's into tuple value's  and tuple value's into list value's, it gives **tuple() and list ()** respectively, since tuple are immutable and list are mutable objects of python. We can check the data type of an object using **type()** in-build function.\n",
        "\n",
        "let's see in code :-"
      ],
      "metadata": {
        "id": "cyT_hqdeLHyd"
      }
    },
    {
      "cell_type": "code",
      "source": [
        "# initially\n",
        "tup = (1, 2, 3, 4, 5) # A tuple having 5 elements\n",
        "lst = [\"A\", \"B\", \"C\", \"D\", \"E\"] # A list having 5 elemnets\n",
        "print(f\"Initially our tuple and list : \")\n",
        "print(f\"tuple : {tup}, type : {type(tup)}\")\n",
        "print(f\"list : {lst}, type : {type(lst)}\")\n",
        "print(\"-\"*80)\n",
        "\n",
        "# converting list into tuple using tuple()\n",
        "print(f\"list values = {lst}, type : {type(lst)}\")\n",
        "print(f\"Converting list values into tuple : {tuple(lst)}, type : {type(lst)}\")\n",
        "print(\"-\"*80)\n",
        "\n",
        "# Converting tuple values into list values using list() \n",
        "print(f\"tuple values = {tup}, type : {type(tup)}\")\n",
        "print(f\"Converting tuple values into list values : {list(tup)}, type : {type(tup)}\")"
      ],
      "metadata": {
        "id": "BcnM6-2RFWca",
        "colab": {
          "base_uri": "https://localhost:8080/"
        },
        "outputId": "4d102553-834d-481f-f857-0fab8f9ab7f6"
      },
      "execution_count": 24,
      "outputs": [
        {
          "output_type": "stream",
          "name": "stdout",
          "text": [
            "Initially our tuple and list : \n",
            "tuple : (1, 2, 3, 4, 5), type : <class 'tuple'>\n",
            "list : ['A', 'B', 'C', 'D', 'E'], type : <class 'list'>\n",
            "--------------------------------------------------------------------------------\n",
            "list values = ['A', 'B', 'C', 'D', 'E'], type : <class 'list'>\n",
            "Converting list values into tuple : ('A', 'B', 'C', 'D', 'E'), type : <class 'list'>\n",
            "--------------------------------------------------------------------------------\n",
            "tuple values = (1, 2, 3, 4, 5), type : <class 'tuple'>\n",
            "Converting tuple values into list values : [1, 2, 3, 4, 5], type : <class 'tuple'>\n"
          ]
        }
      ]
    },
    {
      "cell_type": "markdown",
      "source": [
        "**Ques 16 : Variables that \"contain\" list values are not necessarily lists themselves. Instead, what do they contain?**\n",
        "\n",
        "**Ans :** Variables are like **bucket or box** which can able to hold some value. Internally, a **memory location** for each such element assigned and that location is **save/stored** inside the variable or in-memory (RAM).\n",
        "\n",
        "Variables generally, c**ontains the memory location/address/ references** for the values so, here they conatin the **references for the list values**."
      ],
      "metadata": {
        "id": "DF90YAX3OFLj"
      }
    },
    {
      "cell_type": "code",
      "source": [
        "bucket = [1, 2, 4, 5, 6, 8]\n",
        "print(type(bucket))\n",
        "print(f\"bucket    : {id(bucket)}\")\n",
        "for i in range(len(bucket)):\n",
        "  print(f\"bucket[{bucket[i]}] : {id(bucket[i])}\")"
      ],
      "metadata": {
        "colab": {
          "base_uri": "https://localhost:8080/"
        },
        "id": "zI8jgVypN6U0",
        "outputId": "6cdcf249-ab13-4f82-f162-555899af95cc"
      },
      "execution_count": 25,
      "outputs": [
        {
          "output_type": "stream",
          "name": "stdout",
          "text": [
            "<class 'list'>\n",
            "bucket    : 140048485607616\n",
            "bucket[1] : 94485301160448\n",
            "bucket[2] : 94485301160480\n",
            "bucket[4] : 94485301160544\n",
            "bucket[5] : 94485301160576\n",
            "bucket[6] : 94485301160608\n",
            "bucket[8] : 94485301160672\n"
          ]
        }
      ]
    },
    {
      "cell_type": "markdown",
      "source": [
        "### **Observation :**\n",
        "\n",
        "As we can see here bucket is a variable which reference to list object through a memory location of `140494933895280` and also each individual element of the list having their own individual memory locations. id() is not the memory location it is the identity of the object, it is an integer that is unique for the given object and remains constant during its lifetime."
      ],
      "metadata": {
        "id": "pr1FXN9NSr8W"
      }
    },
    {
      "cell_type": "markdown",
      "source": [
        "**Ques 17 : How do you distinguish between copy.copy() and copy.deepcopy()?**\n",
        "\n",
        "**Ans :** `copy.copy()` function will create a shallow copy of a list, while the `copy.deepcopy()` function will do a deep copy of a list.\n",
        "That is, only `copy.deepcopy()` will duplicate any lists inside the list.\n",
        "\n",
        "let's see in code:\n"
      ],
      "metadata": {
        "id": "GBBwT3v6UKbP"
      }
    },
    {
      "cell_type": "code",
      "source": [
        "#\n",
        "import copy\n",
        "\n",
        "print(\"copy.copy() :\\n\")\n",
        "old_list = [[1, 2, 3], [4, 5, 6], [7, 8, 9]]\n",
        "new_list = copy.copy(old_list)\n",
        "print(f\"\\tOld List : {old_list}\")\n",
        "print(f\"\\tNew List : {new_list}\")\n",
        "print('-'*80)\n",
        "\n",
        "old_list.append([10, 11, 12])\n",
        "print(f\"\\tOld List : {old_list}\")\n",
        "print(f\"\\tNew List : {new_list}\")\n",
        "print('-'*80)\n",
        "\n",
        "old_list[1][1] = 'ineuron'\n",
        "print(f\"\\tOld List : {old_list}\")\n",
        "print(f\"\\tNew List : {new_list}\")\n",
        "print('-'*80)\n",
        "print(\"\\n\")\n",
        "print(\"copy.deepcopy() :\\n\")\n",
        "old_list = [[1, 2, 3], [4, 5, 6], [7, 8, 9]]\n",
        "new_list = copy.deepcopy(old_list)\n",
        "print(f\"\\tOld List : {old_list}\")\n",
        "print(f\"\\tNew List : {new_list}\")\n",
        "print('-'*80)\n",
        "\n",
        "old_list.append([10, 11, 12])\n",
        "print(f\"\\tOld List : {old_list}\")\n",
        "print(f\"\\tNew List : {new_list}\")\n",
        "print('-'*80)\n",
        "\n",
        "old_list[1][1] = 'ineuron'\n",
        "print(f\"\\tOld List : {old_list}\")\n",
        "print(f\"\\tNew List : {new_list}\")\n",
        "print('-'*80)"
      ],
      "metadata": {
        "colab": {
          "base_uri": "https://localhost:8080/"
        },
        "id": "_tg04qHnPe2W",
        "outputId": "2e57e7e4-4682-4e64-d3a3-5c33cebe23a8"
      },
      "execution_count": 26,
      "outputs": [
        {
          "output_type": "stream",
          "name": "stdout",
          "text": [
            "copy.copy() :\n",
            "\n",
            "\tOld List : [[1, 2, 3], [4, 5, 6], [7, 8, 9]]\n",
            "\tNew List : [[1, 2, 3], [4, 5, 6], [7, 8, 9]]\n",
            "--------------------------------------------------------------------------------\n",
            "\tOld List : [[1, 2, 3], [4, 5, 6], [7, 8, 9], [10, 11, 12]]\n",
            "\tNew List : [[1, 2, 3], [4, 5, 6], [7, 8, 9]]\n",
            "--------------------------------------------------------------------------------\n",
            "\tOld List : [[1, 2, 3], [4, 'ineuron', 6], [7, 8, 9], [10, 11, 12]]\n",
            "\tNew List : [[1, 2, 3], [4, 'ineuron', 6], [7, 8, 9]]\n",
            "--------------------------------------------------------------------------------\n",
            "\n",
            "\n",
            "copy.deepcopy() :\n",
            "\n",
            "\tOld List : [[1, 2, 3], [4, 5, 6], [7, 8, 9]]\n",
            "\tNew List : [[1, 2, 3], [4, 5, 6], [7, 8, 9]]\n",
            "--------------------------------------------------------------------------------\n",
            "\tOld List : [[1, 2, 3], [4, 5, 6], [7, 8, 9], [10, 11, 12]]\n",
            "\tNew List : [[1, 2, 3], [4, 5, 6], [7, 8, 9]]\n",
            "--------------------------------------------------------------------------------\n",
            "\tOld List : [[1, 2, 3], [4, 'ineuron', 6], [7, 8, 9], [10, 11, 12]]\n",
            "\tNew List : [[1, 2, 3], [4, 5, 6], [7, 8, 9]]\n",
            "--------------------------------------------------------------------------------\n"
          ]
        }
      ]
    },
    {
      "cell_type": "markdown",
      "source": [
        "### **Observation :**\n",
        "* **copy.copy() :**\n",
        "  1. A shallow copy creates a new object which stores the reference of the original elements.\n",
        "  2. Hence,  shallow copy doesn't create a copy of nested objects, it just copy the reference of nested object.\n",
        "  3. When we replace an element `old_list[1][1] = 'ineuron'`. Both sublists of old_list and new_list at index [1][1] were modified. This is because, both lists share the reference of same nested objects.\n",
        "\n",
        "* **copy.deepcopy() :** \n",
        "  1. A deep copy creates a new object and recursively adds the copies of nested objects present in the original elements. The deep copy creates independent copy of original object and all its nested objects.\n",
        "  2. Hence, we can see deep copy doesn't makes any changes in the new list while modifying old list.\n",
        "  3. This means, both the old_list and the new_list are independent. This is because the old_list was recursively copied, which is true for all its nested objects."
      ],
      "metadata": {
        "id": "Rnc_Kbi0Xyph"
      }
    }
  ]
}