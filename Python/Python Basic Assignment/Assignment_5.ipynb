{
  "cells": [
    {
      "cell_type": "markdown",
      "metadata": {
        "id": "view-in-github",
        "colab_type": "text"
      },
      "source": [
        "<a href=\"https://colab.research.google.com/github/aarpitdubey/ineuron/blob/main/Python/Python%20Basic%20Assignment/Assignment_5.ipynb\" target=\"_parent\"><img src=\"https://colab.research.google.com/assets/colab-badge.svg\" alt=\"Open In Colab\"/></a>"
      ]
    },
    {
      "cell_type": "markdown",
      "metadata": {
        "id": "1bZ8oVpxfmkp"
      },
      "source": [
        "## **Assignment  - 5**\n",
        "\n",
        "#### **Q1. What does an empty dictionary's code look like?**\n",
        "\n",
        "\n",
        "Ans: An empty dictionary is represented by pair of empty curly brackets or can also be created through fuction call.\n",
        "\n",
        "`d = {} (or)`\n",
        "\n",
        " `d = dict()`\n",
        "\n",
        " For example: "
      ]
    },
    {
      "cell_type": "code",
      "execution_count": 1,
      "metadata": {
        "colab": {
          "base_uri": "https://localhost:8080/"
        },
        "id": "7cn6ymL6fdSI",
        "outputId": "27a06264-f1db-420e-9e20-8e0066de44f6"
      },
      "outputs": [
        {
          "output_type": "stream",
          "name": "stdout",
          "text": [
            "dictionary 1: {} and it's type <class 'dict'>\n",
            "********************************************************************************\n",
            "dictionary 2: {} and it's type <class 'dict'>\n"
          ]
        }
      ],
      "source": [
        "dictionary_1 = {}\n",
        "print(f\"dictionary 1: {dictionary_1} and it's type {type(dictionary_1)}\")\n",
        "print(\"*\"*80)\n",
        "\n",
        "dictionary_2 = dict()\n",
        "print(f\"dictionary 2: {dictionary_2} and it's type {type(dictionary_2)}\")"
      ]
    },
    {
      "cell_type": "markdown",
      "metadata": {
        "id": "QZdO6CTZ6aDR"
      },
      "source": [
        "#### **Q2. what is the value of dictionary value with key 'foo' and the value 42 ?**\n",
        "\n",
        "Ans: The dictionary value will be `{'foo' : 42}`. let's check it with a code:"
      ]
    },
    {
      "cell_type": "code",
      "execution_count": 2,
      "metadata": {
        "colab": {
          "base_uri": "https://localhost:8080/"
        },
        "id": "GMGJEeskflAJ",
        "outputId": "3b23810f-2390-40f1-a75a-5e0269b58e6d"
      },
      "outputs": [
        {
          "output_type": "stream",
          "name": "stdout",
          "text": [
            "Dictionary value : {'foo': 42}\n",
            "********************************************************************************\n",
            "d.items()  : dict_items([('foo', 42)]),\n",
            "d.values() : dict_values([42]),\n",
            "d.keys()   : dict_keys(['foo'])\n"
          ]
        }
      ],
      "source": [
        "# dictionary \n",
        "d = {'foo' : 42}\n",
        "print(f\"Dictionary value : {d}\")\n",
        "print('*'*80)\n",
        "print(f\"d.items()  : {d.items()},\\nd.values() : {d.values()},\\nd.keys()   : {d.keys()}\")"
      ]
    },
    {
      "cell_type": "markdown",
      "metadata": {
        "id": "6NGhKojY9qSW"
      },
      "source": [
        "#### **Q3. What is the most significant distinction between a dictionary and a list?**\n",
        "\n",
        "Ans: "
      ]
    },
    {
      "cell_type": "code",
      "execution_count": 3,
      "metadata": {
        "colab": {
          "base_uri": "https://localhost:8080/"
        },
        "id": "Pkvijgr9DaMH",
        "outputId": "2634b403-19e7-42c0-8ee5-092694bea474"
      },
      "outputs": [
        {
          "output_type": "stream",
          "name": "stdout",
          "text": [
            "+------------+------------------------------------------------------------------------------+------------------------------------------------------------------------------------+\n",
            "| Serial No. |                                     List                                     |                                    Dictionaries                                    |\n",
            "+------------+------------------------------------------------------------------------------+------------------------------------------------------------------------------------+\n",
            "|     1.     | Lists are created by placing all the elements between square brackets '[ ]'. | Dictionaries are created by placing all the elements between curly brackets '{ }'. |\n",
            "|     2.     |                 A comma separates the elements in the list.                  |   Elements are stored in the form of key-value pairs, each separated by a comma.   |\n",
            "|     3.     |                     It is an ordered collection of data.                     |                      It is an un-ordered collection of data.                       |\n",
            "+------------+------------------------------------------------------------------------------+------------------------------------------------------------------------------------+\n"
          ]
        }
      ],
      "source": [
        "from prettytable import PrettyTable\n",
        "\n",
        "#creating column list\n",
        "cols = [\"Serial No.\", \"List\", \"Dictionaries\"]\n",
        "\n",
        "#creating table and passing column lists\n",
        "tbl = PrettyTable(cols)\n",
        "\n",
        "#Adding rows\n",
        "\n",
        "tbl.add_row([\"1.\", \"Lists are created by placing all the elements between square brackets '[ ]'.\", \"Dictionaries are created by placing all the elements between curly brackets '{ }'.\"])\n",
        "tbl.add_row([\"2.\", \"A comma separates the elements in the list.\", \"Elements are stored in the form of key-value pairs, each separated by a comma.\"])\n",
        "tbl.add_row([\"3.\", \"It is an ordered collection of data.\", \"It is an un-ordered collection of data.\"])\n",
        "\n",
        "print(tbl)"
      ]
    },
    {
      "cell_type": "markdown",
      "metadata": {
        "id": "XZEnWnRwJN7O"
      },
      "source": [
        "#### **Q4. What happens if you try to access spam ['foo'] if spam is {'bar':100} ?**\n",
        "\n",
        "**Ans:** It will throws error that is `KeyError : 'foo'`"
      ]
    },
    {
      "cell_type": "code",
      "execution_count": 4,
      "metadata": {
        "colab": {
          "base_uri": "https://localhost:8080/",
          "height": 304
        },
        "id": "V2KOBjnj_f8O",
        "outputId": "3437a2e7-9691-4d4c-d999-abb6682cf1bd"
      },
      "outputs": [
        {
          "output_type": "stream",
          "name": "stdout",
          "text": [
            "Items that spam contains: dict_items([('bar', 100)])\n",
            "********************************************************************************\n",
            "Keys that spam contains: dict_keys(['bar'])\n",
            "********************************************************************************\n",
            "Values that keys have inside spam dictionaries: dict_values([100])\n",
            "********************************************************************************\n"
          ]
        },
        {
          "output_type": "error",
          "ename": "KeyError",
          "evalue": "ignored",
          "traceback": [
            "\u001b[0;31m---------------------------------------------------------------------------\u001b[0m",
            "\u001b[0;31mKeyError\u001b[0m                                  Traceback (most recent call last)",
            "\u001b[0;32m<ipython-input-4-6f6cdd34928a>\u001b[0m in \u001b[0;36m<module>\u001b[0;34m()\u001b[0m\n\u001b[1;32m     15\u001b[0m \u001b[0;34m\u001b[0m\u001b[0m\n\u001b[1;32m     16\u001b[0m \u001b[0;31m# What happens if we called a wrong key or the key which is not present inside spam dictionary\u001b[0m\u001b[0;34m\u001b[0m\u001b[0;34m\u001b[0m\u001b[0;34m\u001b[0m\u001b[0m\n\u001b[0;32m---> 17\u001b[0;31m \u001b[0mprint\u001b[0m\u001b[0;34m(\u001b[0m\u001b[0;34mf\"Wrong key called : {spam['foo']}\"\u001b[0m\u001b[0;34m)\u001b[0m\u001b[0;34m\u001b[0m\u001b[0;34m\u001b[0m\u001b[0m\n\u001b[0m",
            "\u001b[0;31mKeyError\u001b[0m: 'foo'"
          ]
        }
      ],
      "source": [
        "spam = {'bar':100}\n",
        "\n",
        "# Spam is a dictionaries and every dictionary is in key:value format\n",
        "# lets see the items that spam conatins\n",
        "print(f\"Items that spam contains: {spam.items()}\")\n",
        "print(\"*\"*80)\n",
        "\n",
        "# The keys that spam contains\n",
        "print(f\"Keys that spam contains: {spam.keys()}\")\n",
        "print(\"*\"*80)\n",
        "\n",
        "# The values these keys have of spam dictionaries\n",
        "print(f\"Values that keys have inside spam dictionaries: {spam.values()}\")\n",
        "print(\"*\"*80)\n",
        "\n",
        "# What happens if we called a wrong key or the key which is not present inside spam dictionary\n",
        "print(f\"Wrong key called : {spam['foo']}\")"
      ]
    },
    {
      "cell_type": "markdown",
      "metadata": {
        "id": "m_tKUAsjhKBy"
      },
      "source": [
        "####**Q5. if a dictionary is stored in spam,what is the difference between the expressions 'cat' in spam and 'cat' in spam.keys() ?**\n",
        "\n",
        "\n",
        "**Ans:** There is no difference. The operator checks whether a value exist as a key in dictionary or not"
      ]
    },
    {
      "cell_type": "code",
      "execution_count": 5,
      "metadata": {
        "colab": {
          "base_uri": "https://localhost:8080/"
        },
        "id": "_newNzhzeLQ6",
        "outputId": "a600ef24-1e1d-43a3-e259-bba79a1b6e2e"
      },
      "outputs": [
        {
          "output_type": "stream",
          "name": "stdout",
          "text": [
            "Keys that spam contains: dict_keys(['cat'])\n",
            "********************************************************************************\n",
            "Expressions 'cat' in spam and 'cat' in spam.keys() are same.\n"
          ]
        }
      ],
      "source": [
        "# we have a dictionary \"spam\"\n",
        "# 'cat' as a key and 0 as a value\n",
        "spam = {'cat': 0}\n",
        "\n",
        "# keys in spam\n",
        "print(f\"Keys that spam contains: {spam.keys()}\")\n",
        "print(\"*\"*80)\n",
        "\n",
        "# A function that returns the key from the value\n",
        "def getKey(val):\n",
        "  for key, value in spam.items():\n",
        "    if val == value:\n",
        "      return key\n",
        "  return \"Key doesnot exist\"\n",
        "\n",
        "# print(getKey(0))\n",
        "# print(list(spam.keys())[0])\n",
        "\n",
        "if (list(spam.keys())[0]) == (getKey(0)): \n",
        "  print(\"Expressions 'cat' in spam and 'cat' in spam.keys() are same.\")\n",
        "else: \n",
        "  print(\"Expressions 'cat' in spam and 'cat' in spam.keys() are different.\")"
      ]
    },
    {
      "cell_type": "markdown",
      "metadata": {
        "id": "wByvtXD9mQvv"
      },
      "source": [
        "####**Q6. If a dictionary is stored in spam, what is the difference between the expressions 'cat' in spam and 'cat' in spam.values() ?**\n",
        "\n",
        "**Ans:**      'cat' in spam checks whether there is a key 'cat' is present in the dictionary or not,\n",
        "\n",
        " while 'cat' in **spam.values(**) checks whether there is a value 'cat' for one of the keys in spam.\n"
      ]
    },
    {
      "cell_type": "markdown",
      "source": [
        "####**Q7. What is a shortcut for the following code?**\n",
        "```\n",
        "if 'color' not in spam:\n",
        "  spam['color'] = 'black';\n",
        "```\n",
        "\n",
        "\n",
        "**Ans:** spam.setdefault('color', 'black')"
      ],
      "metadata": {
        "id": "jNSTMmGQ0bAF"
      }
    },
    {
      "cell_type": "code",
      "execution_count": 6,
      "metadata": {
        "id": "2Spj57LssXvd",
        "colab": {
          "base_uri": "https://localhost:8080/"
        },
        "outputId": "91a0449c-7e69-448f-bd23-65de9ae61576"
      },
      "outputs": [
        {
          "output_type": "execute_result",
          "data": {
            "text/plain": [
              "dict_items([('color', 'black')])"
            ]
          },
          "metadata": {},
          "execution_count": 6
        }
      ],
      "source": [
        "spam={}\n",
        "spam.setdefault('color', 'black')\n",
        "spam.items()"
      ]
    },
    {
      "cell_type": "markdown",
      "source": [
        "#### **Q8. How do you \"pretty print\" dictionary values using which module and function?**\n",
        "\n",
        "**Ans:**  We can 'pretty print' dictionary values in two ways:\n",
        "1. By using pprint() function of pprint module\n",
        "  <br>**Note:** pprint() function doesn't prettify nested dictionaries\n",
        "\n",
        "2. By using dumps() function in Json and \n",
        "    <br> using dump() in yaml module"
      ],
      "metadata": {
        "id": "lQnKYbN93CQ-"
      }
    },
    {
      "cell_type": "code",
      "source": [
        "import pprint\n",
        "import json\n",
        "import yaml\n",
        "\n",
        "employee = [\n",
        "           {'Name': 'Sonu', 'Age':23, 'Residence': {'Country':'USA', 'City':'New York'}},\n",
        "           {'Name': 'Monu', 'Age':44, 'Residence': {'Country':'Spain', 'City':'Madrid'}},\n",
        "           {'Name': 'Anju ', 'Age':26, 'Residence': {'Country':'UK', 'City':'England'}},\n",
        "           {'Name': 'Yun Lee', 'Age':30, 'Residence': {'Country':'Japan', 'City':'Osaka'}},\n",
        "]\n",
        "\n",
        "\n",
        "print('Printing using print() function\\n', employee)\n",
        "print('-'*331)\n",
        "print('Printing using pprint() function\\n')\n",
        "pprint.pprint(employee)\n",
        "print('-'*331)\n",
        "jsondump = json.dumps(employee, indent=4)\n",
        "print('Printing using dumps() method\\n', jsondump)\n",
        "print('-'*331)\n",
        "yamldump = yaml.dump(employee)\n",
        "print('Printing using dump() method\\n', yamldump)"
      ],
      "metadata": {
        "colab": {
          "base_uri": "https://localhost:8080/"
        },
        "id": "LUXmzyqO3BLl",
        "outputId": "bdbc4860-4a83-4fa8-d4b8-fb62a758ff73"
      },
      "execution_count": 7,
      "outputs": [
        {
          "output_type": "stream",
          "name": "stdout",
          "text": [
            "Printing using print() function\n",
            " [{'Name': 'Sonu', 'Age': 23, 'Residence': {'Country': 'USA', 'City': 'New York'}}, {'Name': 'Monu', 'Age': 44, 'Residence': {'Country': 'Spain', 'City': 'Madrid'}}, {'Name': 'Anju ', 'Age': 26, 'Residence': {'Country': 'UK', 'City': 'England'}}, {'Name': 'Yun Lee', 'Age': 30, 'Residence': {'Country': 'Japan', 'City': 'Osaka'}}]\n",
            "-------------------------------------------------------------------------------------------------------------------------------------------------------------------------------------------------------------------------------------------------------------------------------------------------------------------------------------------\n",
            "Printing using pprint() function\n",
            "\n",
            "[{'Age': 23,\n",
            "  'Name': 'Sonu',\n",
            "  'Residence': {'City': 'New York', 'Country': 'USA'}},\n",
            " {'Age': 44,\n",
            "  'Name': 'Monu',\n",
            "  'Residence': {'City': 'Madrid', 'Country': 'Spain'}},\n",
            " {'Age': 26,\n",
            "  'Name': 'Anju ',\n",
            "  'Residence': {'City': 'England', 'Country': 'UK'}},\n",
            " {'Age': 30,\n",
            "  'Name': 'Yun Lee',\n",
            "  'Residence': {'City': 'Osaka', 'Country': 'Japan'}}]\n",
            "-------------------------------------------------------------------------------------------------------------------------------------------------------------------------------------------------------------------------------------------------------------------------------------------------------------------------------------------\n",
            "Printing using dumps() method\n",
            " [\n",
            "    {\n",
            "        \"Name\": \"Sonu\",\n",
            "        \"Age\": 23,\n",
            "        \"Residence\": {\n",
            "            \"Country\": \"USA\",\n",
            "            \"City\": \"New York\"\n",
            "        }\n",
            "    },\n",
            "    {\n",
            "        \"Name\": \"Monu\",\n",
            "        \"Age\": 44,\n",
            "        \"Residence\": {\n",
            "            \"Country\": \"Spain\",\n",
            "            \"City\": \"Madrid\"\n",
            "        }\n",
            "    },\n",
            "    {\n",
            "        \"Name\": \"Anju \",\n",
            "        \"Age\": 26,\n",
            "        \"Residence\": {\n",
            "            \"Country\": \"UK\",\n",
            "            \"City\": \"England\"\n",
            "        }\n",
            "    },\n",
            "    {\n",
            "        \"Name\": \"Yun Lee\",\n",
            "        \"Age\": 30,\n",
            "        \"Residence\": {\n",
            "            \"Country\": \"Japan\",\n",
            "            \"City\": \"Osaka\"\n",
            "        }\n",
            "    }\n",
            "]\n",
            "-------------------------------------------------------------------------------------------------------------------------------------------------------------------------------------------------------------------------------------------------------------------------------------------------------------------------------------------\n",
            "Printing using dump() method\n",
            " - Age: 23\n",
            "  Name: Sonu\n",
            "  Residence: {City: New York, Country: USA}\n",
            "- Age: 44\n",
            "  Name: Monu\n",
            "  Residence: {City: Madrid, Country: Spain}\n",
            "- Age: 26\n",
            "  Name: 'Anju '\n",
            "  Residence: {City: England, Country: UK}\n",
            "- Age: 30\n",
            "  Name: Yun Lee\n",
            "  Residence: {City: Osaka, Country: Japan}\n",
            "\n"
          ]
        }
      ]
    }
  ],
  "metadata": {
    "colab": {
      "collapsed_sections": [],
      "name": "Assignment 5",
      "provenance": [],
      "authorship_tag": "ABX9TyMFpIlVN0AZe3ZIrChXZ4ep",
      "include_colab_link": true
    },
    "kernelspec": {
      "display_name": "Python 3",
      "name": "python3"
    },
    "language_info": {
      "name": "python"
    }
  },
  "nbformat": 4,
  "nbformat_minor": 0
}